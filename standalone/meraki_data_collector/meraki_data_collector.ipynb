{
 "cells": [
  {
   "cell_type": "markdown",
   "id": "0881d3a3-0efc-425a-850f-803a76e3fc5b",
   "metadata": {},
   "source": [
    "# Introduction"
   ]
  },
  {
   "cell_type": "markdown",
   "id": "f056eacb-94f7-4831-8fc9-3c82f245a6f8",
   "metadata": {},
   "source": [
    "This notebook collects select data from Meraki devices. It currently collects:\n",
    "\n",
    "* Devices (MX, MS, AP)\n",
    "  * Name\n",
    "  * Model\n",
    "  * Serial Number\n",
    "  * System Status\n",
    "* Interfaces\n",
    "  * Number of Active Ports\n",
    "  * Number of Inactive Ports\n",
    "  * Peak ports in use\n",
    "* Neighbors\n",
    "  * List of APs attached to a device\n",
    "* APs\n",
    "  * Number of wireless clients\n",
    "\n",
    "**ToDo: Add collection of the following:**\n",
    "\n",
    "* Stack Name (I need some stacked switches to test against; it might be possible with DevNet)\n",
    "* Power Supply Status (I am not sure if this can be discovered through the API)\n",
    "* Ports where cable test failed (I am researching whether this is possible through the API)"
   ]
  },
  {
   "cell_type": "markdown",
   "id": "121a264e-ec64-410d-b2a1-93fd1b165225",
   "metadata": {},
   "source": [
    "## Instructions"
   ]
  },
  {
   "cell_type": "markdown",
   "id": "621e6fde-adbb-4a82-aedf-692233dd90b0",
   "metadata": {},
   "source": [
    "Using this notebook is very simple: Just run the cells below. The results are saved to a spreadsheet.\n",
    "\n",
    "* If the spreadsheet does not exist, the notebook will create it.\n",
    "* If the spreadsheet does exist, the notebook will append the results to it.\n",
    "\n",
    "TODO: Using spreadsheets is not ideal, because users often modify the data manually, resulting in unsupported characters and corrupt data. Other data stores need to be added."
   ]
  },
  {
   "cell_type": "markdown",
   "id": "0f72db0d-80f2-494a-ae42-c786017d357c",
   "metadata": {},
   "source": [
    "# Execute Data Collection"
   ]
  },
  {
   "cell_type": "markdown",
   "id": "a5e2c4df-61b3-4b2b-8175-c2d3baffb141",
   "metadata": {},
   "source": [
    "# Setup: Run this cell to initialize required libraries and functions"
   ]
  },
  {
   "cell_type": "code",
   "execution_count": null,
   "id": "2f6a2d05-d4aa-49c6-b0a8-594768bcb20e",
   "metadata": {},
   "outputs": [],
   "source": [
    "import sys\n",
    "sys.path.insert(1, '../../collectors')\n",
    "import meraki_collectors as mc"
   ]
  },
  {
   "cell_type": "markdown",
   "id": "65b76aa7-ee2a-4a61-ae3e-788709707686",
   "metadata": {},
   "source": [
    "## Upload a Spreadsheet With Data That Was Previously Collected (Optional)"
   ]
  },
  {
   "cell_type": "code",
   "execution_count": null,
   "id": "d2d0b9b7-369d-4ca6-9dd9-7d8e669d5f27",
   "metadata": {},
   "outputs": [],
   "source": [
    "import ipywidgets as widgets\n",
    "widgets.FileUpload(\n",
    "    accept='.csv',  # TODO: Add .xlsx support\n",
    "    multiple=False\n",
    ")\n",
    "uploader = widgets.FileUpload()\n",
    "display(uploader)"
   ]
  },
  {
   "cell_type": "code",
   "execution_count": null,
   "id": "658d96e8-5146-4113-a812-794a493b8b3b",
   "metadata": {},
   "outputs": [],
   "source": [
    "uploaded = uploader.value[0]\n",
    "import io\n",
    "import pandas as pd\n",
    "df_original = pd.read_csv(io.BytesIO(uploaded.content))\n",
    "del uploader\n",
    "del uploaded\n",
    "\n",
    "df_original.info()"
   ]
  },
  {
   "cell_type": "markdown",
   "id": "88c95720-71d0-446f-929e-d2aee0d70397",
   "metadata": {},
   "source": [
    "## Collect Variables"
   ]
  },
  {
   "cell_type": "markdown",
   "id": "f001da23-cb2a-4dbb-9c2d-31f47c9764b2",
   "metadata": {},
   "source": [
    "### Get the User's API Key and the Organizations Their API Key Has Access To"
   ]
  },
  {
   "cell_type": "code",
   "execution_count": null,
   "id": "c493a618-b259-4551-8844-bb2a75f7dcf2",
   "metadata": {},
   "outputs": [],
   "source": [
    "from getpass import getpass\n",
    "api_key = getpass('Enter your Meraki API key: ')\n",
    "df_orgs = mc.meraki_get_organizations(api_key)\n",
    "df_orgs"
   ]
  },
  {
   "cell_type": "markdown",
   "id": "f98977cd-fb49-4240-9bc3-0f4aada32f03",
   "metadata": {},
   "source": [
    "### Get the Meraki Organization and Network ID(s)"
   ]
  }
 ],
 "metadata": {
  "kernelspec": {
   "display_name": "Python 3 (ipykernel)",
   "language": "python",
   "name": "python3"
  },
  "language_info": {
   "codemirror_mode": {
    "name": "ipython",
    "version": 3
   },
   "file_extension": ".py",
   "mimetype": "text/x-python",
   "name": "python",
   "nbconvert_exporter": "python",
   "pygments_lexer": "ipython3",
   "version": "3.10.4"
  }
 },
 "nbformat": 4,
 "nbformat_minor": 5
}
