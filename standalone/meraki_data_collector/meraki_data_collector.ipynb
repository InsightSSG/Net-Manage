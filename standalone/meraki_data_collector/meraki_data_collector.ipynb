{
 "cells": [
  {
   "cell_type": "markdown",
   "id": "bae297ca",
   "metadata": {},
   "source": [
    "# Introduction"
   ]
  },
  {
   "cell_type": "markdown",
   "id": "8ba98998",
   "metadata": {},
   "source": [
    "This notebook collects select data from Meraki devices. It currently collects:\n",
    "\n",
    "* Devices (MX, MS, AP)\n",
    "  * Name\n",
    "  * Model\n",
    "  * Serial Number\n",
    "  * System Status\n",
    "* Interfaces\n",
    "  * Number of Active Ports\n",
    "  * Number of Inactive Ports\n",
    "  * Peak ports in use\n",
    "* Neighbors\n",
    "  * List of APs attached to a device\n",
    "* APs\n",
    "  * Number of wireless clients\n",
    "\n",
    "**ToDo: Add collection of the following:**\n",
    "\n",
    "* Stack Name (I need some stacked switches to test against; it might be possible with DevNet)\n",
    "* Power Supply Status (I am not sure if this can be discovered through the API)\n",
    "* Ports where cable test failed (I am researching whether this is possible through the API)"
   ]
  },
  {
   "cell_type": "markdown",
   "id": "62b58ba2",
   "metadata": {},
   "source": [
    "## Instructions"
   ]
  },
  {
   "cell_type": "markdown",
   "id": "c9b45ad6",
   "metadata": {},
   "source": [
    "Using this notebook is very simple: Just run the cells below. The results are saved to a spreadsheet.\n",
    "\n",
    "* If the spreadsheet does not exist, the notebook will create it.\n",
    "* If the spreadsheet does exist, the notebook will append the results to it.\n",
    "\n",
    "TODO: Using spreadsheets is not ideal, because users often modify the data manually, resulting in unsupported characters and corrupt data. Other data stores need to be added."
   ]
  },
  {
   "cell_type": "markdown",
   "id": "5ead4954",
   "metadata": {},
   "source": [
    "# Execute Data Collection"
   ]
  },
  {
   "cell_type": "markdown",
   "id": "2da6cb64",
   "metadata": {},
   "source": [
    "# Setup: Run this cell to initialize required libraries and functions"
   ]
  },
  {
   "cell_type": "code",
   "execution_count": 1,
   "id": "54ad2249",
   "metadata": {},
   "outputs": [],
   "source": [
    "import sys\n",
    "sys.path.insert(1, '../../collectors')\n",
    "import meraki_collectors as mc"
   ]
  },
  {
   "cell_type": "markdown",
   "id": "8ce2ea6b",
   "metadata": {},
   "source": [
    "## Upload a Spreadsheet With Data That Was Previously Collected (Optional)"
   ]
  },
  {
   "cell_type": "code",
   "execution_count": 2,
   "id": "e33355f7",
   "metadata": {},
   "outputs": [
    {
     "data": {
      "application/vnd.jupyter.widget-view+json": {
       "model_id": "da3e095b53eb490a9f88713af0e31e67",
       "version_major": 2,
       "version_minor": 0
      },
      "text/plain": [
       "FileUpload(value=(), description='Upload')"
      ]
     },
     "metadata": {},
     "output_type": "display_data"
    }
   ],
   "source": [
    "import ipywidgets as widgets\n",
    "widgets.FileUpload(\n",
    "    accept='.csv',  # TODO: Add .xlsx support\n",
    "    multiple=False\n",
    ")\n",
    "uploader = widgets.FileUpload()\n",
    "display(uploader)"
   ]
  },
  {
   "cell_type": "code",
   "execution_count": null,
   "id": "667723bb",
   "metadata": {},
   "outputs": [],
   "source": [
    "df_original = pd.DataFrame()\n",
    "uploaded = uploader.value[0]\n",
    "import io\n",
    "import pandas as pd\n",
    "df_original = pd.read_csv(io.BytesIO(uploaded.content))\n",
    "del uploader\n",
    "del uploaded\n",
    "\n",
    "df_original.info()"
   ]
  },
  {
   "cell_type": "markdown",
   "id": "bf95c496",
   "metadata": {},
   "source": [
    "## Collect Variables"
   ]
  },
  {
   "cell_type": "markdown",
   "id": "fec3322e",
   "metadata": {},
   "source": [
    "### Get the User's API Key and the Organizations and Networks Their API Key Has Access To"
   ]
  },
  {
   "cell_type": "code",
   "execution_count": null,
   "id": "b4ac7d89",
   "metadata": {},
   "outputs": [],
   "source": [
    "# For development\n",
    "import importlib\n",
    "import meraki_collectors as mc\n",
    "importlib.reload(mc)\n",
    "\n",
    "from getpass import getpass\n",
    "api_key = getpass('Enter your Meraki API key: ')\n",
    "df_orgs = mc.meraki_get_organizations(api_key)\n",
    "display(df_orgs)\n",
    "df_networks = mc.meraki_get_org_networks(api_key, orgs=df_orgs['org_id'].to_list())\n",
    "display(df_networks)"
   ]
  },
  {
   "cell_type": "markdown",
   "id": "fcdbace5",
   "metadata": {},
   "source": [
    "# Collect Data"
   ]
  },
  {
   "cell_type": "code",
   "execution_count": null,
   "id": "900e14ae",
   "metadata": {},
   "outputs": [],
   "source": [
    "networks = input('Enter one or more networks (comma-delimited) to scan: ')\n",
    "networks = [n.strip() for n in networks.split(',')]"
   ]
  }
 ],
 "metadata": {
  "kernelspec": {
   "display_name": "Python 3 (ipykernel)",
   "language": "python",
   "name": "python3"
  },
  "language_info": {
   "codemirror_mode": {
    "name": "ipython",
    "version": 3
   },
   "file_extension": ".py",
   "mimetype": "text/x-python",
   "name": "python",
   "nbconvert_exporter": "python",
   "pygments_lexer": "ipython3",
   "version": "3.10.8"
  }
 },
 "nbformat": 4,
 "nbformat_minor": 5
}
