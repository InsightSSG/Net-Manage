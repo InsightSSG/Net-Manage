{
 "cells": [
  {
   "cell_type": "markdown",
   "id": "ac97f659-8a58-4dde-aef0-bf88f2d29bd9",
   "metadata": {
    "tags": []
   },
   "source": [
    "# Instructions"
   ]
  },
  {
   "cell_type": "markdown",
   "id": "b0dad367-7431-4977-b19b-ad46ad2e7bd3",
   "metadata": {},
   "source": [
    "## Setup"
   ]
  },
  {
   "cell_type": "markdown",
   "id": "ea490de9-0ddb-4878-b630-cd53a5b4f969",
   "metadata": {},
   "source": [
    "1. Rename the file '.env_example' to '.env'.\n",
    "1. Enter any necessary variables, such as host groups and credentials. (If a variable does not apply, leave it blank.)\n",
    "1. Run the cells below sequentially."
   ]
  },
  {
   "cell_type": "markdown",
   "id": "e404ce09-df10-43c6-9256-eb44deb65fa3",
   "metadata": {},
   "source": [
    "## Notes"
   ]
  },
  {
   "cell_type": "markdown",
   "id": "cb0de986-cf6b-44a3-b68a-f854e4aaf006",
   "metadata": {
    "tags": []
   },
   "source": [
    "**Mac users:**\n",
    "* You might get this error: `Unable to revert mtime: /Library/Fonts`\n",
    "* The solution is to install the *libmagic* brew: `brew install libmagic`\n",
    "* Reference: [Python MacOS Error: Unable to revert mtime: /Library/Fonts](https://stackoverflow.com/questions/62279920/python-macos-error-unable-to-revert-mtime-library-fonts)"
   ]
  },
  {
   "cell_type": "markdown",
   "id": "e3232f4d-f53f-40a3-ab73-e3e10dcf48b0",
   "metadata": {},
   "source": [
    "# Create OS Environment Variables"
   ]
  },
  {
   "cell_type": "code",
   "execution_count": null,
   "id": "17d16d5d-b6d6-4a01-a42c-5e5c3254fb50",
   "metadata": {
    "tags": []
   },
   "outputs": [],
   "source": [
    "from netmanage.setup import *\n",
    "from dotenv import load_dotenv\n",
    "load_dotenv(override=True)"
   ]
  },
  {
   "cell_type": "markdown",
   "id": "dfa1802a-653d-4833-b2ca-3be407d25c82",
   "metadata": {},
   "source": [
    "# Select and Run Collectors"
   ]
  },
  {
   "cell_type": "markdown",
   "id": "6cdaba1e-c8b1-4b33-a76b-3f9e95152261",
   "metadata": {
    "tags": []
   },
   "source": [
    "## Select the hostgroups to run the collectors on"
   ]
  },
  {
   "cell_type": "markdown",
   "id": "5f4518b3-27e3-4f45-af04-3dd7304f94a5",
   "metadata": {},
   "source": [
    "**Note:**\n",
    "\n",
    "* If running this in a miniconda environment and the widget does not display, run the command below.\n",
    "* See: https://stackoverflow.com/questions/36351109/ipython-notebook-ipywidgets-does-not-show\n",
    "\n",
    "```\n",
    "jupyter nbextension enable --py --sys-prefix widgetsnbextension\n",
    "```"
   ]
  },
  {
   "cell_type": "code",
   "execution_count": null,
   "id": "fc456f0e-f450-4923-a283-4c8f191608c0",
   "metadata": {
    "tags": []
   },
   "outputs": [],
   "source": [
    "private_data_dir = os.path.expanduser(os.environ['private_data_directory'])\n",
    "hostgroup_select = select_hostgroups(collector_select, hostgroup_select, private_data_dir)\n",
    "for key in sorted(hostgroup_select.keys()):\n",
    "    print(key.upper())\n",
    "    display(widgets.GridBox(hostgroup_select[key],\n",
    "                            layout=widgets.Layout(grid_template_columns='repeat(3, 200px)')))\n",
    "    print('\\n')"
   ]
  },
  {
   "cell_type": "markdown",
   "id": "3ae24f08-41fc-44bb-9433-21ef0d4f5271",
   "metadata": {},
   "source": [
    "## Select the collectors to run"
   ]
  },
  {
   "cell_type": "code",
   "execution_count": null,
   "id": "0579f075-fc4c-4a6b-a1de-baa0a02d5da1",
   "metadata": {
    "tags": []
   },
   "outputs": [],
   "source": [
    "collector_select = select_collectors(collector_select, hostgroup_select)\n",
    "for key in sorted(collector_select.keys()):\n",
    "    print(key.upper())\n",
    "    display(widgets.GridBox(collector_select[key],\n",
    "                            layout=widgets.Layout(grid_template_columns='repeat(3, 250px)')))\n",
    "    print('\\n')"
   ]
  },
  {
   "cell_type": "markdown",
   "id": "b4993491-99db-4247-98c7-b0a69674d7a7",
   "metadata": {},
   "source": [
    "## Run Collectors"
   ]
  },
  {
   "cell_type": "code",
   "execution_count": null,
   "id": "4f19d1ca-1ee1-4652-a67c-f3f2cd6a64d5",
   "metadata": {
    "tags": []
   },
   "outputs": [],
   "source": [
    "%%time\n",
    "\n",
    "load_dotenv(override=True)\n",
    "\n",
    "nest_asyncio.apply()  # See: https://tinyurl.com/2whp5rpu\n",
    "\n",
    "# Reload imported modules (used for debugging)\n",
    "from netmanage import run_collectors as rc\n",
    "from netmanage.collectors import cisco_asa_collectors as cac\n",
    "from netmanage.collectors import cisco_ios_collectors as cic\n",
    "from netmanage.collectors import dnac_collectors as dnc\n",
    "from netmanage.collectors import f5_collectors as f5c\n",
    "from netmanage.collectors import infoblox_nios_collectors as nc\n",
    "from netmanage.collectors import meraki_collectors as mc\n",
    "from netmanage.collectors import netbox_collectors as nbc\n",
    "from netmanage.collectors import palo_alto_collectors as pac\n",
    "from netmanage.collectors import solarwinds_collectors as swc\n",
    "from netmanage.parsers import cisco_asa_parsers as cap\n",
    "from netmanage.parsers import cisco_ios_parsers as cip\n",
    "from netmanage.parsers import cisco_nxos_parsers as cnp\n",
    "from netmanage.parsers import palo_alto_parsers as pap\n",
    "from netmanage.helpers import helpers as hp\n",
    "importlib.reload(cac)\n",
    "importlib.reload(cic)\n",
    "importlib.reload(dnc)\n",
    "importlib.reload(f5c)\n",
    "importlib.reload(hp)\n",
    "importlib.reload(rc)\n",
    "importlib.reload(nc)\n",
    "importlib.reload(mc)\n",
    "importlib.reload(nbc)\n",
    "importlib.reload(pac)\n",
    "importlib.reload(swc)\n",
    "importlib.reload(cap)\n",
    "importlib.reload(cip)\n",
    "importlib.reload(cnp)\n",
    "importlib.reload(pap)\n",
    "\n",
    "# Create a dataframe of collectors to run\n",
    "print('COLLECTORS TO RUN\\n')\n",
    "df_collectors = create_collectors_df(collector_select, hostgroup_select)\n",
    "display(df_collectors.style.hide(axis=\"index\"))\n",
    "\n",
    "# Set the timestamp so it will be consistent for all collectors\n",
    "timestamp = dt.datetime.now()\n",
    "timestamp = timestamp.strftime('%Y-%m-%d_%H%M')\n",
    "\n",
    "# If palo_alto_serials exists and panorama_get_managed_devices is not in the list of\n",
    "# collectors, then run the panorama_get_managed_devices collector and add it to the\n",
    "# database.\n",
    "palo_alto_serials = list(filter(None, os.environ[\"palo_alto_serials\"].split(\",\")))\n",
    "palo_alto_serials = [_.strip() for _ in palo_alto_serials]\n",
    "if palo_alto_serials and 'panorama_get_managed_devices' not in df_collectors['collector'].to_list():\n",
    "    hostgroups = set(df_collectors[df_collectors['ansible_os'] == 'paloaltonetworks.panos']['hostgroup'].tolist())\n",
    "    palo_alto_username = os.environ[\"palo_alto_username\"]\n",
    "    palo_alto_password = os.environ[\"palo_alto_password\"]\n",
    "    for hostgroup in hostgroups:\n",
    "        result = pac.panorama_get_managed_devices(\n",
    "            os.environ[\"palo_alto_username\"],\n",
    "            os.environ[\"palo_alto_password\"],\n",
    "            hostgroup,\n",
    "            os.path.expanduser(os.environ[\"netmanage_path\"].rstrip(\"/\")),\n",
    "            os.path.expanduser(os.environ[\"private_data_directory\"])\n",
    "        )\n",
    "        if not result.empty:\n",
    "            rc.add_to_db(\n",
    "                'PANOS_PANORAMA_MANAGED_DEVICES',\n",
    "                result,\n",
    "                timestamp,\n",
    "                f'{os.path.expanduser(os.environ[\"database_path\"])}/{os.environ[\"database_name\"]}',\n",
    "                method=os.environ[\"database_method\"]\n",
    "            )\n",
    "\n",
    "# Execute the collectors\n",
    "for idx, row in df_collectors.iterrows():\n",
    "    ansible_os = row['ansible_os']\n",
    "    hostgroup = row['hostgroup']\n",
    "    collector = row['collector']\n",
    "    result = rc.collect(ansible_os,\n",
    "                        collector,\n",
    "                        hostgroup,\n",
    "                        timestamp)\n",
    "    print(f'\\nRESULT: {ansible_os.upper()} {collector.upper()} COLLECTOR\\n')\n",
    "    display(result)"
   ]
  },
  {
   "cell_type": "markdown",
   "id": "0bfb7266-c058-4475-ba14-34b248b36fd8",
   "metadata": {},
   "source": [
    "# Run Validators"
   ]
  },
  {
   "cell_type": "markdown",
   "id": "50e94114-acc7-486f-834a-90754d75e1e0",
   "metadata": {
    "tags": []
   },
   "source": [
    "## Reload imported modules (optional; used for testing)"
   ]
  },
  {
   "cell_type": "code",
   "execution_count": null,
   "id": "9a6dda74-5de8-4075-b6c7-1866664d3fc4",
   "metadata": {},
   "outputs": [],
   "source": [
    "from netmanage import run_collectors as rc\n",
    "from netmanage import validators as vl\n",
    "from netmanage.collectors import collectors as cl\n",
    "from netmanage.collectors import meraki_collectors as mc\n",
    "from netmanage.helpers import helpers as hp\n",
    "\n",
    "importlib.reload(cl)\n",
    "importlib.reload(mc)\n",
    "importlib.reload(hp)\n",
    "importlib.reload(rc)\n",
    "importlib.reload(vl)"
   ]
  },
  {
   "cell_type": "markdown",
   "id": "5aaacd82-996e-4b76-958a-c19e2d999122",
   "metadata": {
    "tags": []
   },
   "source": [
    "## F5 Validators"
   ]
  },
  {
   "cell_type": "markdown",
   "id": "ca596bf6-f837-4463-b78f-7fd15a56f25a",
   "metadata": {
    "tags": []
   },
   "source": [
    "### ```f5_vip_availability```"
   ]
  },
  {
   "cell_type": "code",
   "execution_count": null,
   "id": "c7617b33-5350-4d90-930d-3e3fe1a467e8",
   "metadata": {},
   "outputs": [],
   "source": [
    "df_diff = vl.f5_vip_availability(db_path, 'bigip_vip_availability')\n",
    "display(df_diff)"
   ]
  },
  {
   "cell_type": "markdown",
   "id": "1bc670a1-4826-4cd0-9977-80ede8d36a6a",
   "metadata": {
    "tags": []
   },
   "source": [
    "### ```f5_pool_availability```"
   ]
  },
  {
   "cell_type": "code",
   "execution_count": null,
   "id": "bd93dbf2-0103-4bb2-b583-3c31493c8f66",
   "metadata": {},
   "outputs": [],
   "source": [
    "df_diff = vl.f5_pool_availability(db_path, 'bigip_pool_availability')\n",
    "display(df_diff)"
   ]
  },
  {
   "cell_type": "markdown",
   "id": "5a656f26-ed87-4015-b54a-46b7d4bba2a6",
   "metadata": {
    "tags": []
   },
   "source": [
    "### ```f5_pool_member_availability```"
   ]
  },
  {
   "cell_type": "code",
   "execution_count": null,
   "id": "5855f2a6-77a8-448c-88ca-428924762361",
   "metadata": {},
   "outputs": [],
   "source": [
    "df_diff = vl.f5_pool_member_availability(db_path, 'bigip_pool_member_availability')\n",
    "display(df_diff)"
   ]
  },
  {
   "cell_type": "markdown",
   "id": "8f703d07-b291-4d8c-92d9-62a369e2337b",
   "metadata": {},
   "source": [
    "## Meraki Validators"
   ]
  },
  {
   "cell_type": "markdown",
   "id": "02bfa318-3b37-4654-9afb-01ad278345fa",
   "metadata": {},
   "source": [
    "### ```meraki_get_org_device_statuses```"
   ]
  },
  {
   "cell_type": "code",
   "execution_count": null,
   "id": "decf3a86-81ae-4aeb-b432-08ec7b07aa64",
   "metadata": {},
   "outputs": [],
   "source": [
    "%%time\n",
    "df_diff = vl.meraki_device_statuses_availability(db_path, 'meraki_get_org_device_statuses')\n",
    "if len(df_diff) > 0:\n",
    "    display(df_diff.sort_values(by='networkId', ascending=True).style.hide(axis=\"index\"))\n",
    "else:\n",
    "    display(df_diff)"
   ]
  }
 ],
 "metadata": {
  "kernelspec": {
   "display_name": "Python 3 (ipykernel)",
   "language": "python",
   "name": "python3"
  },
  "language_info": {
   "codemirror_mode": {
    "name": "ipython",
    "version": 3
   },
   "file_extension": ".py",
   "mimetype": "text/x-python",
   "name": "python",
   "nbconvert_exporter": "python",
   "pygments_lexer": "ipython3",
   "version": "3.10.13"
  }
 },
 "nbformat": 4,
 "nbformat_minor": 5
}
