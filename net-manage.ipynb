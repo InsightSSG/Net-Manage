{
 "cells": [
  {
   "cell_type": "markdown",
   "id": "e3232f4d-f53f-40a3-ab73-e3e10dcf48b0",
   "metadata": {},
   "source": [
    "# Setup"
   ]
  },
  {
   "cell_type": "markdown",
   "id": "31fac8e3-7601-47fd-82c3-f52f77bedb83",
   "metadata": {},
   "source": [
    "**Note to Mac users:**\n",
    "* You might get this error: `Unable to revert mtime: /Library/Fonts`\n",
    "* The solution is to install the *libmagic* brew: `brew install libmagic`\n",
    "* Reference: [Python MacOS Error: Unable to revert mtime: /Library/Fonts](https://stackoverflow.com/questions/62279920/python-macos-error-unable-to-revert-mtime-library-fonts)"
   ]
  },
  {
   "cell_type": "code",
   "execution_count": null,
   "id": "17d16d5d-b6d6-4a01-a42c-5e5c3254fb50",
   "metadata": {},
   "outputs": [],
   "source": [
    "from setup import *"
   ]
  },
  {
   "cell_type": "markdown",
   "id": "04e04874-2983-4f18-84b6-d599809db8b3",
   "metadata": {
    "tags": []
   },
   "source": [
    "## Set Variables\n",
    "\n",
    "Gather the following variables:\n",
    "\n",
    "* database name\n",
    "* path to the Net-Manage repository\n",
    "* private data directory\n",
    "* path to store the output\n",
    "\n",
    "**Note:** The inventory file is statically set to *private_data_dir/inventory/hosts*\n",
    "\n",
    "## Explanation of Variables\n",
    "\n",
    "### database name\n",
    "\n",
    "defaults to the current date, in YYYY-MM-DD format\n",
    "\n",
    "### path to the Net-Manage repository\n",
    "\n",
    "defaults to current folder\n",
    "\n",
    "### Path to the Private Data Directory\n",
    "\n",
    "This variable requires explanation. It is the folder that *contains* the inventory folder. **Do not store that information in Net-Manage directory, because it could be overwritten the next time you do a \"git pull\"**\n",
    "\n",
    "### path to store the output\n",
    "\n",
    "path to store the database and Excel files\n",
    "\n",
    "defaults to 'private_data_dir/output'\n",
    "\n",
    "**note:** The Ansible-runner output, like \"artifacts\", will be stored in the private data directory\n",
    "\n",
    "#### Example folder structure\n",
    "\n",
    "* Net-Manage path: *~/source/repos/InsightSSG/Net-Manage*\n",
    "\n",
    "* Private data directory: *~/tenant_data/*\n",
    "\n",
    "* Inventory file: *~/tenant_data/inventory/hosts*"
   ]
  },
  {
   "cell_type": "code",
   "execution_count": null,
   "id": "65949dfb-2858-4cba-83ea-3e01810b9f03",
   "metadata": {},
   "outputs": [],
   "source": [
    "api_key, db, db_path, inventories, nm_path, out_path, private_data_dir = hp.set_vars()\n",
    "play_path = f'{nm_path}/playbooks'\n",
    "username, password = hp.get_creds()"
   ]
  },
  {
   "cell_type": "markdown",
   "id": "dfa1802a-653d-4833-b2ca-3be407d25c82",
   "metadata": {},
   "source": [
    "# Select and Run Collectors"
   ]
  },
  {
   "cell_type": "markdown",
   "id": "6cdaba1e-c8b1-4b33-a76b-3f9e95152261",
   "metadata": {},
   "source": [
    "## Select the hostgroups to run the collectors on"
   ]
  },
  {
   "cell_type": "code",
   "execution_count": null,
   "id": "fc456f0e-f450-4923-a283-4c8f191608c0",
   "metadata": {},
   "outputs": [],
   "source": [
    "hostgroup_select = select_hostgroups(private_data_dir)\n",
    "for key in sorted(hostgroup_select.keys()):\n",
    "    print(key.upper())\n",
    "    display(widgets.GridBox(hostgroup_select[key],\n",
    "                            layout=widgets.Layout(grid_template_columns='repeat(3, 200px)')))\n",
    "    print('\\n')"
   ]
  },
  {
   "cell_type": "markdown",
   "id": "3ae24f08-41fc-44bb-9433-21ef0d4f5271",
   "metadata": {},
   "source": [
    "## Select the collectors to run"
   ]
  },
  {
   "cell_type": "code",
   "execution_count": null,
   "id": "0579f075-fc4c-4a6b-a1de-baa0a02d5da1",
   "metadata": {},
   "outputs": [],
   "source": [
    "collector_select = select_collectors(collector_select, hostgroup_select)\n",
    "for key in sorted(collector_select.keys()):\n",
    "    print(key.upper())\n",
    "    display(widgets.GridBox(collector_select[key],\n",
    "                            layout=widgets.Layout(grid_template_columns='repeat(3, 250px)')))\n",
    "    print('\\n')"
   ]
  },
  {
   "cell_type": "markdown",
   "id": "619732e3-bd02-4cef-96ed-b165b161e749",
   "metadata": {},
   "source": [
    "### Select Meraki Organizations and Networks (if applicable)\n",
    "\n",
    "**Important! (Please Read):**\n",
    "\n",
    "* You do not have to enter an organization ID for any of the 'meraki_get_org' functions.\n",
    "    * If you do not enter any organization IDs, then the script will query all orgs that have API access enabled.\n",
    "\n",
    "* You do not *have* to enter a network ID for 'meraki_get_network' functions\n",
    "    * **I strongly recommend you always enter one or more network IDs when running 'meraki_get_network' functions!**\n",
    "    * If you do not enter any network IDs, then the script will query all network IDs for the orgs you specify.\n",
    "    * If you do not enter any org IDs or network IDs, the script will query all devices in all orgs. **This will be slow!**\n",
    "    * If you want to quickly find the network ID for the device you're interested in, then run 'meraki_get_org_devices' instead\n",
    "        * 'meraki_get_org_devices' does not return as much device-specific data, and executes in seconds, even in orgs with thousands of devices\n",
    "\n",
    "* Currently there is a bug that can cause the collectors to fail when the following conditions are met:\n",
    "    1. You use an API key to run collectors on orgs that API key has access to\n",
    "    1. You use the same database to run collectors on orgs that a *different* API key has access to\n",
    "    1. This is on my ToDo list to fix. For now, the workaround is to use a separate database.\n"
   ]
  },
  {
   "cell_type": "code",
   "execution_count": null,
   "id": "9c667634-e889-4e67-ad90-cb14aaed1092",
   "metadata": {},
   "outputs": [],
   "source": [
    "import collectors as cl\n",
    "import helpers as hp\n",
    "import run_collectors as rc\n",
    "\n",
    "importlib.reload(cl)\n",
    "importlib.reload(hp)\n",
    "importlib.reload(rc)\n",
    "\n",
    "networks, orgs = hp.get_user_meraki_input()"
   ]
  },
  {
   "cell_type": "markdown",
   "id": "b4993491-99db-4247-98c7-b0a69674d7a7",
   "metadata": {},
   "source": [
    "## Run Collectors"
   ]
  },
  {
   "cell_type": "code",
   "execution_count": null,
   "id": "4f19d1ca-1ee1-4652-a67c-f3f2cd6a64d5",
   "metadata": {},
   "outputs": [],
   "source": [
    "import collectors as cl\n",
    "import helpers as hp\n",
    "import run_collectors as rc\n",
    "\n",
    "importlib.reload(cl)\n",
    "importlib.reload(hp)\n",
    "importlib.reload(rc)\n",
    "\n",
    "# Create a dataframe of collectors to run\n",
    "print('COLLECTORS TO RUN\\n')\n",
    "df_collectors = create_collectors_df(collector_select, hostgroup_select)\n",
    "display(df_collectors)\n",
    "\n",
    "# Set the timestamp so it will be consistent for all collectors\n",
    "ts = dt.datetime.now()\n",
    "ts = ts.strftime('%Y-%m-%d_%H%M')\n",
    "\n",
    "# Execute the collectors\n",
    "for idx, row in df_collectors.iterrows():\n",
    "    ansible_os = row['ansible_os']\n",
    "    hostgroup = row['hostgroup']\n",
    "    collector = row['collector']\n",
    "    result = rc.collect(collector,\n",
    "                        nm_path,\n",
    "                        private_data_dir,\n",
    "                        ts,\n",
    "                        ansible_os=ansible_os,\n",
    "                        username=username,\n",
    "                        password=password,\n",
    "                        api_key=api_key,\n",
    "                        hostgroup=hostgroup,\n",
    "                        play_path=play_path,\n",
    "                        db_path=db_path,\n",
    "                        orgs=orgs,\n",
    "                        networks=networks)\n",
    "    print(f'RESULT: {ansible_os.upper()} {collector.upper()} COLLECTOR\\n')\n",
    "    display(result)"
   ]
  },
  {
   "cell_type": "markdown",
   "id": "0bfb7266-c058-4475-ba14-34b248b36fd8",
   "metadata": {},
   "source": [
    "# Run Validators"
   ]
  },
  {
   "cell_type": "code",
   "execution_count": null,
   "id": "9a6dda74-5de8-4075-b6c7-1866664d3fc4",
   "metadata": {},
   "outputs": [],
   "source": [
    "import collectors as cl\n",
    "import helpers as hp\n",
    "import run_collectors as rc\n",
    "import validators as vl\n",
    "\n",
    "importlib.reload(cl)\n",
    "importlib.reload(hp)\n",
    "importlib.reload(rc)\n",
    "importlib.reload(vl)"
   ]
  },
  {
   "cell_type": "code",
   "execution_count": null,
   "id": "c7617b33-5350-4d90-930d-3e3fe1a467e8",
   "metadata": {},
   "outputs": [],
   "source": [
    "df_diff = vl.f5_vip_availability(db_path, 'f5_vip_availability')\n",
    "display(df_diff)"
   ]
  },
  {
   "cell_type": "code",
   "execution_count": null,
   "id": "bd93dbf2-0103-4bb2-b583-3c31493c8f66",
   "metadata": {},
   "outputs": [],
   "source": [
    "df_diff = vl.f5_pool_availability(db_path, 'f5_pool_availability')\n",
    "display(df_diff)"
   ]
  },
  {
   "cell_type": "code",
   "execution_count": null,
   "id": "5855f2a6-77a8-448c-88ca-428924762361",
   "metadata": {},
   "outputs": [],
   "source": [
    "df_diff = vl.f5_pool_member_availability(db_path, 'f5_pool_member_availability')\n",
    "display(df_diff)"
   ]
  }
 ],
 "metadata": {
  "kernelspec": {
   "display_name": "Python 3 (ipykernel)",
   "language": "python",
   "name": "python3"
  },
  "language_info": {
   "codemirror_mode": {
    "name": "ipython",
    "version": 3
   },
   "file_extension": ".py",
   "mimetype": "text/x-python",
   "name": "python",
   "nbconvert_exporter": "python",
   "pygments_lexer": "ipython3",
   "version": "3.8.10"
  }
 },
 "nbformat": 4,
 "nbformat_minor": 5
}
