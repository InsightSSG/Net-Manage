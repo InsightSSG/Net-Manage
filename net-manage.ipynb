{
 "cells": [
  {
   "cell_type": "markdown",
   "id": "e3232f4d-f53f-40a3-ab73-e3e10dcf48b0",
   "metadata": {},
   "source": [
    "# Setup"
   ]
  },
  {
   "cell_type": "markdown",
   "id": "31fac8e3-7601-47fd-82c3-f52f77bedb83",
   "metadata": {},
   "source": [
    "**Note to Mac users:**\n",
    "* You might get this error: `Unable to revert mtime: /Library/Fonts`\n",
    "* The solution is to install the *libmagic* brew: `brew install libmagic`\n",
    "* Reference: [Python MacOS Error: Unable to revert mtime: /Library/Fonts](https://stackoverflow.com/questions/62279920/python-macos-error-unable-to-revert-mtime-library-fonts)"
   ]
  },
  {
   "cell_type": "code",
   "execution_count": null,
   "id": "16ac76f9-d2d7-4da8-909c-4527179ead70",
   "metadata": {},
   "outputs": [],
   "source": [
    "import ansible_runner\n",
    "import datetime as dt\n",
    "import dtale\n",
    "import helpers as hp\n",
    "import importlib\n",
    "import ipywidgets as widgets\n",
    "import jupyterlab_widgets\n",
    "import os\n",
    "import pandas as pd\n",
    "import readline\n",
    "import run_collectors as rc\n",
    "\n",
    "from IPython.display import clear_output\n",
    "from IPython.display import display\n",
    "# from pandasgui import show\n",
    "\n",
    "# Reload helper modules after changes. Mostly used for development.\n",
    "importlib.reload(hp)\n",
    "importlib.reload(rc)\n",
    "\n",
    "# Do not write history to .python_history to protect credentials\n",
    "readline.write_history_file = lambda *args: None\n",
    "\n",
    "# Set Pandas display settings\n",
    "pd.set_option('display.max_rows', None)\n",
    "pd.set_option('display.max_columns', None)\n",
    "pd.set_option('display.width', 1000)\n",
    "pd.set_option('display.colheader_justify', 'center')\n",
    "pd.set_option('display.precision', 3)"
   ]
  },
  {
   "cell_type": "markdown",
   "id": "04e04874-2983-4f18-84b6-d599809db8b3",
   "metadata": {
    "tags": []
   },
   "source": [
    "## Set Variables\n",
    "\n",
    "Gather the following variables:\n",
    "\n",
    "* database name\n",
    "* path to the Net-Manage repository\n",
    "* private data directory\n",
    "* path to store the output\n",
    "\n",
    "**Note:** The inventory file is statically set to *private_data_dir/inventory/hosts*\n",
    "\n",
    "## Explanation of Variables\n",
    "\n",
    "### database name\n",
    "\n",
    "defaults to the current date, in YYYY-MM-DD format\n",
    "\n",
    "### path to the Net-Manage repository\n",
    "\n",
    "defaults to current folder\n",
    "\n",
    "### Path to the Private Data Directory\n",
    "\n",
    "This variable requires explanation. It is the folder that *contains* the inventory folder. **Do not store that information in Net-Manage directory, because it could be overwritten the next time you do a \"git pull\"**\n",
    "\n",
    "### path to store the output\n",
    "\n",
    "path to store the database and Excel files\n",
    "\n",
    "defaults to 'private_data_dir/output'\n",
    "\n",
    "**note:** The Ansible-runner output, like \"artifacts\", will be stored in the private data directory\n",
    "\n",
    "#### Example folder structure\n",
    "\n",
    "* Net-Manage path: *~/source/repos/InsightSSG/Net-Manage*\n",
    "\n",
    "* Private data directory: *~/tenant_data/*\n",
    "\n",
    "* Inventory file: *~/tenant_data/inventory/hosts*"
   ]
  },
  {
   "cell_type": "code",
   "execution_count": null,
   "id": "65949dfb-2858-4cba-83ea-3e01810b9f03",
   "metadata": {},
   "outputs": [],
   "source": [
    "db, db_path, inventories, nm_path, out_path, private_data_dir = hp.set_vars()\n",
    "username, password = hp.get_creds()"
   ]
  },
  {
   "cell_type": "markdown",
   "id": "dfa1802a-653d-4833-b2ca-3be407d25c82",
   "metadata": {},
   "source": [
    "# Select and Run Collectors"
   ]
  },
  {
   "cell_type": "markdown",
   "id": "346d98de-8493-4e46-b004-cecae959abe9",
   "metadata": {},
   "source": [
    "## Select the hostgroups to run the collectors on"
   ]
  },
  {
   "cell_type": "code",
   "execution_count": null,
   "id": "897ca064-d5f8-4bb7-bc6b-ed8655c78ac7",
   "metadata": {},
   "outputs": [],
   "source": [
    "hostgroup_select = hp.ansible_get_hostgroups(inventories)\n",
    "hostgroup_select = [widgets.Checkbox(value=False,\n",
    "                                     description=h,\n",
    "                                     disabled=False,\n",
    "                                     indent=False) for h in hostgroup_select]\n",
    "\n",
    "widgets.GridBox(hostgroup_select, layout=widgets.Layout(grid_template_columns=\"repeat(3, 200px)\"))"
   ]
  },
  {
   "cell_type": "markdown",
   "id": "3ae24f08-41fc-44bb-9433-21ef0d4f5271",
   "metadata": {},
   "source": [
    "## Select the collectors to run"
   ]
  },
  {
   "cell_type": "code",
   "execution_count": null,
   "id": "0a49c686-3ac7-42dd-9943-7ea5638700a3",
   "metadata": {},
   "outputs": [],
   "source": [
    "collector_select = rc.define_collectors()\n",
    "collector_select = [widgets.Checkbox(value=False,\n",
    "                                     description=c,\n",
    "                                     disabled=False,\n",
    "                                     indent=False) for c in collector_select]\n",
    "\n",
    "widgets.GridBox(collector_select, layout=widgets.Layout(grid_template_columns=\"repeat(3, 200px)\"))"
   ]
  },
  {
   "cell_type": "markdown",
   "id": "b4993491-99db-4247-98c7-b0a69674d7a7",
   "metadata": {},
   "source": [
    "## Run Collectors"
   ]
  },
  {
   "cell_type": "code",
   "execution_count": null,
   "id": "5db98f67-ce21-46f4-abac-3e7a060222ec",
   "metadata": {},
   "outputs": [],
   "source": [
    "hostgroups = [h.description for h in hostgroup_select if h.value]\n",
    "hostgroups = ','.join(hostgroups)\n",
    "collectors = [c.description for c in collector_select if c.value]\n",
    "collectors = hp.set_dependencies(collectors)\n",
    "collectors = ','.join(collectors)\n",
    "\n",
    "print(collectors)\n",
    "\n",
    "%alias run_collectors python run_collectors.py -c $collectors -H $hostgroups -n $nm_path -p $private_data_dir -u $username -P $password -o $out_path -d $db\n",
    "%run_collectors\n",
    "# clear_output()"
   ]
  },
  {
   "cell_type": "code",
   "execution_count": null,
   "id": "d49ba95a-9c5f-42b6-add5-50af52db82d0",
   "metadata": {},
   "outputs": [],
   "source": [
    "for c in collectors.split(','):\n",
    "    print(c)"
   ]
  },
  {
   "cell_type": "code",
   "execution_count": null,
   "id": "359cdd40-31d5-4637-87dd-3ffe571f9e39",
   "metadata": {},
   "outputs": [],
   "source": [
    "results = dict()\n",
    "for c in collectors.split(','):\n",
    "    df = hp.read_table(db_path, c)\n",
    "    df = df.set_index('timestamp')\n",
    "    results[c] = df\n",
    "for key in results:\n",
    "    print(key)"
   ]
  },
  {
   "cell_type": "code",
   "execution_count": null,
   "id": "9d268dd5-57bf-44cd-9bd8-9a310455241b",
   "metadata": {},
   "outputs": [],
   "source": [
    "df = results['interface_summary']\n",
    "d = dtale.show(df, host='localhost')"
   ]
  },
  {
   "cell_type": "code",
   "execution_count": null,
   "id": "28e8db3a-0489-42aa-ad98-881d68a170d5",
   "metadata": {},
   "outputs": [],
   "source": [
    "d.open_browser()"
   ]
  },
  {
   "cell_type": "code",
   "execution_count": null,
   "id": "247df263-edb6-4b67-b8c3-3b8056880ee0",
   "metadata": {},
   "outputs": [],
   "source": [
    "display(df)"
   ]
  },
  {
   "cell_type": "code",
   "execution_count": null,
   "id": "66925389-861d-41fc-989c-9242d066bc6d",
   "metadata": {},
   "outputs": [],
   "source": [
    "dtale.instances()"
   ]
  },
  {
   "cell_type": "code",
   "execution_count": null,
   "id": "fb9ed925-528b-4cba-a9ce-98aecea8e052",
   "metadata": {},
   "outputs": [],
   "source": [
    "d"
   ]
  },
  {
   "cell_type": "code",
   "execution_count": null,
   "id": "106f3eb0-c422-434d-921b-8485ed23a10d",
   "metadata": {},
   "outputs": [],
   "source": [
    "d.open_browser()"
   ]
  },
  {
   "cell_type": "code",
   "execution_count": null,
   "id": "8c624888-49a4-4f71-b5db-5a600ff3ab13",
   "metadata": {},
   "outputs": [],
   "source": [
    "dtale.instances()"
   ]
  },
  {
   "cell_type": "code",
   "execution_count": null,
   "id": "c3d0895e-4f6e-41ad-9087-3cdeee243b2f",
   "metadata": {},
   "outputs": [],
   "source": [
    "d"
   ]
  },
  {
   "cell_type": "code",
   "execution_count": null,
   "id": "367f185f-274c-4b02-bd83-1b91964d9afa",
   "metadata": {},
   "outputs": [],
   "source": [
    "dir(dtale.show)"
   ]
  },
  {
   "cell_type": "code",
   "execution_count": null,
   "id": "4df220a4-9b19-443a-8c69-3809ebae8b56",
   "metadata": {},
   "outputs": [],
   "source": [
    "import { PageConfig } from '@jupyterlab/coreutils';\n",
    "\n",
    "// Get base URL of current notebook server\n",
    "let base_url = PageConfig.getBaseUrl()\n",
    "\n",
    "// Construct URL of our proxied service\n",
    "let service_url = base_url + 'proxy/' + port;"
   ]
  },
  {
   "cell_type": "code",
   "execution_count": null,
   "id": "d0b1cc02-a475-47d5-9d89-68c04fd1ae18",
   "metadata": {},
   "outputs": [],
   "source": [
    "\n",
    "d._main_url"
   ]
  },
  {
   "cell_type": "code",
   "execution_count": null,
   "id": "65f4c59a-6667-49e2-8970-5e116b57dd21",
   "metadata": {},
   "outputs": [],
   "source": [
    "d"
   ]
  },
  {
   "cell_type": "code",
   "execution_count": null,
   "id": "ed0fad77-5676-4dbb-8a48-c855f85b606a",
   "metadata": {},
   "outputs": [],
   "source": []
  },
  {
   "cell_type": "markdown",
   "id": "f0303a9f-5344-44f0-84fd-b1a92007379b",
   "metadata": {},
   "source": [
    "## View Collectors"
   ]
  },
  {
   "cell_type": "code",
   "execution_count": null,
   "id": "2901f4e4-4672-4e72-9fd8-b6702f85de33",
   "metadata": {},
   "outputs": [],
   "source": [
    "results = list()\n",
    "for c in collectors.split(','):\n",
    "    df = hp.read_table(db_path, c)\n",
    "    df = df.set_index('timestamp')\n",
    "    results.append(df)\n",
    "for item in results:\n",
    "    display(item)"
   ]
  },
  {
   "cell_type": "code",
   "execution_count": null,
   "id": "1944c8b0-783b-435d-b869-bb9f5bb165fb",
   "metadata": {},
   "outputs": [],
   "source": [
    "collectors.split(',')\n",
    "test = ['arp_table', 'abc']"
   ]
  },
  {
   "cell_type": "code",
   "execution_count": null,
   "id": "5570f1de-c109-41f3-8061-6de8d1ee17fc",
   "metadata": {},
   "outputs": [],
   "source": [
    "# accordion = widgets.Accordion(children=[widgets.IntSlider(), widgets.Text()], titles=('Slider', 'Text'))\n",
    "titles = tuple(c for c in collectors.split(','))\n",
    "accordion = widgets.Accordion(children=widgets.Output(), titles=(titles))\n",
    "\n",
    "accordion\n"
   ]
  },
  {
   "cell_type": "code",
   "execution_count": null,
   "id": "32958aa2-5d36-49b3-808a-1de78f591064",
   "metadata": {},
   "outputs": [],
   "source": [
    "db_path, db, collectors"
   ]
  },
  {
   "cell_type": "code",
   "execution_count": null,
   "id": "3b073528-184f-466d-a593-46519e4859ff",
   "metadata": {},
   "outputs": [],
   "source": [
    "                # \"-c\",\n",
    "                # \"arp_table,f5_vip_destinations\",\n",
    "                # \"-H\",\n",
    "                # \"f5_ltm_mesa,f5_test_ltm\",\n",
    "                # \"-n\",\n",
    "                # \"~/source/repos/InsightSSG/Net-Manage\",\n",
    "                # \"-p\",\n",
    "                # \"~/source/repos/InsightSSG/Net-Runbooks/tenants/banfield\",\n",
    "                # \"-u\",\n",
    "                # \"js_370802\",\n",
    "                # \"-o\",\n",
    "                # \"~/source/repos/InsightSSG/Net-Runbooks/tenants/banfield/output/\",\n",
    "                # \"-d\",\n",
    "                # \"2022-09-17_maintenance.db\",\n",
    "                # \"-P\",\n",
    "                # \"ArdentSkies323#\","
   ]
  },
  {
   "cell_type": "code",
   "execution_count": null,
   "id": "df817fc8-f508-4415-a3ee-6a28c33c6024",
   "metadata": {},
   "outputs": [],
   "source": [
    "try:\n",
    "    collectors = [c.strip() for c in collectors.split(',')]\n",
    "except:\n",
    "    pass\n",
    "try:\n",
    "    hostgroups = [h.strip() for h in hostgroups.split(',')]\n",
    "except:\n",
    "    pass\n",
    "df_collectors = hp.ansible_create_collectors_df(hostgroups,\n",
    "                                                collectors)\n",
    "\n",
    "display(df_collectors)\n",
    "\n",
    "df_vars = hp.ansible_create_vars_df(hostgroups, private_data_dir)\n",
    "\n",
    "display(df_vars)"
   ]
  },
  {
   "cell_type": "code",
   "execution_count": null,
   "id": "f7de6381-4d58-4b76-8b44-48c3a7721f82",
   "metadata": {},
   "outputs": [],
   "source": [
    "ansible_os = df_vars.loc[['f5_ltm_mesa']]['ansible_network_os'].values[0]\n",
    "ansible_os"
   ]
  },
  {
   "cell_type": "markdown",
   "id": "6fb1ac5d-20b5-4130-a042-265350c5c12b",
   "metadata": {},
   "source": [
    "# Select and Run Validators"
   ]
  },
  {
   "cell_type": "markdown",
   "id": "7d389232-1db5-4dc9-aaf5-add5703b338c",
   "metadata": {},
   "source": [
    "# The cells below are a scratchpad for development. They will not be in production."
   ]
  },
  {
   "cell_type": "code",
   "execution_count": null,
   "id": "1fc63911-e777-4209-83f8-82aa0e2b2d01",
   "metadata": {},
   "outputs": [],
   "source": [
    "import ansible_runner\n",
    "import os\n",
    "def ansible_get_hostgroup_devices(hostgroup, host_files, quiet=True):\n",
    "    '''\n",
    "    Gets the devices inside an Ansible inventory hostgroup.\n",
    "    Args:\n",
    "        hostgroup (str):   The Ansible hostgroup\n",
    "        host_files (list): The path to one or more Ansible host files\n",
    "                           (I.e., ['inventory/hosts'])\n",
    "        quiet (bool):      Whether to output the entire graph.\n",
    "    Returns:\n",
    "        devices (list):  A list of devices in the hostgroup\n",
    "    '''\n",
    "    # TODO: Ansible is slow to read the inventory file. I thought about reading\n",
    "    #       the YAML files directly, but not all users will be using YAML. So,\n",
    "    #       there might be another way to optimize this, or it could be\n",
    "    #       acceptable to leave it as is. I'll have to run more tests.\n",
    "    graph = ansible_runner.interface.get_inventory('graph',\n",
    "                                                   host_files,\n",
    "                                                   quiet=True)\n",
    "    # TODO: This is a hack. There are better ways to parse the graph.\n",
    "    graph = str(graph)\n",
    "    for item in graph.split('@'):\n",
    "        if hostgroup in item:\n",
    "            item = item.split(':')[-1]\n",
    "            item = item.split('|--')[1:-1]\n",
    "            devices = [i.split('\\\\')[0] for i in item]\n",
    "            break\n",
    "    return devices\n",
    "\n",
    "\n",
    "def ansible_get_hostgroups(host_files, quiet=True):\n",
    "    '''\n",
    "    Gets the devices inside an Ansible inventory hostgroup.\n",
    "    Args:\n",
    "        host_files (list): The path to one or more Ansible host files\n",
    "                           (I.e., ['inventory/hosts'])\n",
    "        quiet (bool):      Whether to output the entire graph.\n",
    "    Returns:\n",
    "        devices (list):  A list of devices in the hostgroup\n",
    "    '''\n",
    "    graph = ansible_runner.interface.get_inventory('graph',\n",
    "                                                   host_files,\n",
    "                                                   quiet=True)\n",
    "    graph = str(graph).strip(\"('\")\n",
    "    # graph = list(filter(None, graph))\n",
    "    hostgroups = list()\n",
    "    graph = list(filter(None, graph.split('@')))\n",
    "    for item in graph:\n",
    "        hostgroup = item.split(':')[0]\n",
    "        hostgroups.append(hostgroup)\n",
    "    return hostgroups\n",
    "\n",
    "\n",
    "tenant = 'banfield'\n",
    "inventories = [f'~/source/repos/InsightSSG/Net-Runbooks/tenants/{tenant}/inventory/hosts']\n",
    "inventories = [os.path.expanduser(_) for _ in inventories]\n",
    "inventories = [os.path.expanduser(f'~/source/repos/InsightSSG/Net-Runbooks/tenants/{tenant}/inventory/hosts')]\n",
    "\n",
    "hostgroups = ansible_get_hostgroups(inventories)\n",
    "print(hostgroups)"
   ]
  },
  {
   "cell_type": "code",
   "execution_count": null,
   "id": "2e6ae8ae-1be5-44e7-8702-2a29275fee63",
   "metadata": {},
   "outputs": [],
   "source": [
    "# I copied this function from the ansible_runner documentation so that it will\n",
    "# be easy to reference during development. This function is not part of the\n",
    "# Net-Manage code.\n",
    "\n",
    "def get_inventory(action, inventories, response_format=None, host=None, playbook_dir=None,\n",
    "                  vault_ids=None, vault_password_file=None, output_file=None, export=None, **kwargs):\n",
    "    '''\n",
    "    Run an ansible-inventory command to get inventory related details.\n",
    "\n",
    "    :param action: Valid values are one of ``graph``, ``host``, ``list``\n",
    "                   ``graph`` create inventory graph, ``host`` returns specific host info and works as inventory script and\n",
    "                   ``list`` output all hosts info and also works as inventory script.\n",
    "    :param inventories: List of inventory host path.\n",
    "    :param response_format: The output format for response. Valid values can be one of ``json``, ``yaml``, ``toml``.\n",
    "                            Default is ``json``. If ``action`` is ``graph`` only allowed value is ``json``.\n",
    "    :param host: When ``action`` is set to ``host`` this parameter is used to get the host specific information.\n",
    "    :param playbook_dir: This parameter is used to sets the relative path for the inventory.\n",
    "    :param vault_ids: The vault identity to use.\n",
    "    :param vault_password_file: The vault password files to use.\n",
    "    :param output_file: The file path in which inventory details should be sent to.\n",
    "    :param export: The boolean value if set represent in a way that is optimized for export,not as an accurate\n",
    "                   representation of how Ansible has processed it.\n",
    "    :param runner_mode: The applicable values are ``pexpect`` and ``subprocess``. Default is set to ``subprocess``.\n",
    "    :param host_cwd: The host current working directory to be mounted within the container (if enabled) and will be\n",
    "                     the work directory within container.\n",
    "    :param envvars: Environment variables to be used when running Ansible. Environment variables will also be\n",
    "                    read from ``env/envvars`` in ``private_data_dir``\n",
    "    :param passwords: A dictionary containing password prompt patterns and response values used when processing output from\n",
    "                      Ansible. Passwords will also be read from ``env/passwords`` in ``private_data_dir``.\n",
    "    :param settings: A dictionary containing settings values for the ``ansible-runner`` runtime environment. These will also\n",
    "                     be read from ``env/settings`` in ``private_data_dir``.\n",
    "    :param ssh_key: The ssh private key passed to ``ssh-agent`` as part of the ansible-playbook run.\n",
    "    :param quiet: Disable all output\n",
    "    :param json_mode: Store event data in place of stdout on the console and in the stdout file\n",
    "    :param artifact_dir: The path to the directory where artifacts should live, this defaults to 'artifacts' under the private data dir\n",
    "    :param project_dir: The path to the playbook content, this defaults to 'project' within the private data dir\n",
    "    :param rotate_artifacts: Keep at most n artifact directories, disable with a value of 0 which is the default\n",
    "    :param timeout: The timeout value in seconds that will be passed to either ``pexpect`` of ``subprocess`` invocation\n",
    "                    (based on ``runner_mode`` selected) while executing command. It the timeout is triggered it will force cancel the\n",
    "                    execution.\n",
    "    :param process_isolation: Enable process isolation, using a container engine (e.g. podman).\n",
    "    :param process_isolation_executable: Process isolation executable or container engine used to isolate execution. (default: podman)\n",
    "    :param container_image: Container image to use when running an ansible task (default: quay.io/ansible/ansible-runner:devel)\n",
    "    :param container_volume_mounts: List of bind mounts in the form 'host_dir:/container_dir:labels. (default: None)\n",
    "    :param container_options: List of container options to pass to execution engine.\n",
    "    :param container_workdir: The working directory within the container.\n",
    "    :param fact_cache: A string that will be used as the name for the subdirectory of the fact cache in artifacts directory.\n",
    "                       This is only used for 'jsonfile' type fact caches.\n",
    "    :param fact_cache_type: A string of the type of fact cache to use.  Defaults to 'jsonfile'.\n",
    "    :param private_data_dir: The directory containing all runner metadata needed to invoke the runner\n",
    "                             module. Output artifacts will also be stored here for later consumption.\n",
    "    :param ident: The run identifier for this invocation of Runner. Will be used to create and name\n",
    "                  the artifact directory holding the results of the invocation.\n",
    "    :param event_handler: An optional callback that will be invoked any time an event is received by Runner itself, return True to keep the event\n",
    "    :param cancel_callback: An optional callback that can inform runner to cancel (returning True) or not (returning False)\n",
    "    :param finished_callback: An optional callback that will be invoked at shutdown after process cleanup.\n",
    "    :param status_handler: An optional callback that will be invoked any time the status changes (e.g...started, running, failed, successful, timeout)\n",
    "    :param artifacts_handler: An optional callback that will be invoked at the end of the run to deal with the artifacts from the run.\n",
    "    :param check_job_event_data: Check if job events data is completely generated. If event data is not completely generated and if\n",
    "                                 value is set to 'True' it will raise 'AnsibleRunnerException' exception,\n",
    "                                 if set to 'False' it log a debug message and continue execution. Default value is 'False'\n",
    "    :type action: str\n",
    "    :type inventories: list\n",
    "    :type response_format: str\n",
    "    :type host: str\n",
    "    :type playbook_dir: str\n",
    "    :type vault_ids: str\n",
    "    :type vault_password_file: str\n",
    "    :type output_file: str\n",
    "    :type export: bool\n",
    "    :type runner_mode: str\n",
    "    :type host_cwd: str\n",
    "    :type envvars: dict\n",
    "    :type passwords: dict\n",
    "    :type settings: dict\n",
    "    :type private_data_dir: str\n",
    "    :type project_dir: str\n",
    "    :type artifact_dir: str\n",
    "    :type fact_cache_type: str\n",
    "    :type fact_cache: str\n",
    "    :type process_isolation: bool\n",
    "    :type process_isolation_executable: str\n",
    "    :type container_image: str\n",
    "    :type container_volume_mounts: list\n",
    "    :type container_options: list\n",
    "    :type container_workdir: str\n",
    "    :type ident: str\n",
    "    :type rotate_artifacts: int\n",
    "    :type timeout: int\n",
    "    :type ssh_key: str\n",
    "    :type quiet: bool\n",
    "    :type json_mode: bool\n",
    "    :type event_handler: Callable\n",
    "    :type cancel_callback: Callable\n",
    "    :type finished_callback: Callable\n",
    "    :type status_handler: Callable\n",
    "    :type artifacts_handler: Callable\n",
    "    :type check_job_event_data: bool\n",
    "\n",
    "    :returns: Returns a tuple of response and error string. In case if ``runner_mode`` is set to ``pexpect`` the error value is\n",
    "              empty as ``pexpect`` uses same output descriptor for stdout and stderr. If the vaue of ``response_format`` is ``json``\n",
    "              it returns a python dictionary object.\n",
    "    '''\n",
    "\n",
    "    event_callback_handler = kwargs.pop('event_handler', None)\n",
    "    status_callback_handler = kwargs.pop('status_handler', None)\n",
    "    artifacts_handler = kwargs.pop('artifacts_handler', None)\n",
    "    cancel_callback = kwargs.pop('cancel_callback', None)\n",
    "    finished_callback = kwargs.pop('finished_callback', None)\n",
    "\n",
    "    rd = InventoryConfig(**kwargs)\n",
    "    rd.prepare_inventory_command(action=action, inventories=inventories, response_format=response_format, host=host, playbook_dir=playbook_dir,\n",
    "                                 vault_ids=vault_ids, vault_password_file=vault_password_file, output_file=output_file, export=export)\n",
    "    r = Runner(rd,\n",
    "               event_handler=event_callback_handler,\n",
    "               status_handler=status_callback_handler,\n",
    "               artifacts_handler=artifacts_handler,\n",
    "               cancel_callback=cancel_callback,\n",
    "               finished_callback=finished_callback)\n",
    "    r.run()\n",
    "    response = r.stdout.read()\n",
    "    error = r.stderr.read()\n",
    "    if response and response_format == 'json':\n",
    "        response = json.loads(sanitize_json_response(response))\n",
    "    return response, error"
   ]
  },
  {
   "cell_type": "code",
   "execution_count": null,
   "id": "d1201b37-de7c-420d-97b8-92f1b58d812b",
   "metadata": {},
   "outputs": [],
   "source": [
    "print(dir(widgets))"
   ]
  },
  {
   "cell_type": "code",
   "execution_count": null,
   "id": "98afa4f4-0020-42f9-85cc-a7b6b2fd826d",
   "metadata": {},
   "outputs": [],
   "source": [
    "from IPython.display import display\n",
    "button = widgets.Button(description=\"Click Me!\")\n",
    "output = widgets.Output()\n",
    "\n",
    "display(button, output)\n",
    "\n",
    "def on_button_clicked(b):\n",
    "    with output:\n",
    "        print(\"Button clicked.\")\n",
    "\n",
    "button.on_click(on_button_clicked)"
   ]
  },
  {
   "cell_type": "code",
   "execution_count": null,
   "id": "a7d2895c-9547-4e4a-bea2-8360b5bdfb62",
   "metadata": {},
   "outputs": [],
   "source": []
  }
 ],
 "metadata": {
  "kernelspec": {
   "display_name": "Python 3 (ipykernel)",
   "language": "python",
   "name": "python3"
  },
  "language_info": {
   "codemirror_mode": {
    "name": "ipython",
    "version": 3
   },
   "file_extension": ".py",
   "mimetype": "text/x-python",
   "name": "python",
   "nbconvert_exporter": "python",
   "pygments_lexer": "ipython3",
   "version": "3.9.10"
  }
 },
 "nbformat": 4,
 "nbformat_minor": 5
}
