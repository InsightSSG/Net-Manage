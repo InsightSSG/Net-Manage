{
 "cells": [
  {
   "cell_type": "markdown",
   "id": "e3232f4d-f53f-40a3-ab73-e3e10dcf48b0",
   "metadata": {},
   "source": [
    "# Setup"
   ]
  },
  {
   "cell_type": "markdown",
   "id": "31fac8e3-7601-47fd-82c3-f52f77bedb83",
   "metadata": {},
   "source": [
    "**Note to Mac users:**\n",
    "* You might get this error: `Unable to revert mtime: /Library/Fonts`\n",
    "* The solution is to install the *libmagic* brew: `brew install libmagic`\n",
    "* Reference: [Python MacOS Error: Unable to revert mtime: /Library/Fonts](https://stackoverflow.com/questions/62279920/python-macos-error-unable-to-revert-mtime-library-fonts)"
   ]
  },
  {
   "cell_type": "code",
   "execution_count": null,
   "id": "17d16d5d-b6d6-4a01-a42c-5e5c3254fb50",
   "metadata": {
    "tags": []
   },
   "outputs": [],
   "source": [
    "from setup import *"
   ]
  },
  {
   "cell_type": "markdown",
   "id": "04e04874-2983-4f18-84b6-d599809db8b3",
   "metadata": {
    "tags": []
   },
   "source": [
    "## Set Variables"
   ]
  },
  {
   "cell_type": "markdown",
   "id": "ac97f659-8a58-4dde-aef0-bf88f2d29bd9",
   "metadata": {
    "tags": []
   },
   "source": [
    "### Instructions"
   ]
  },
  {
   "cell_type": "markdown",
   "id": "845715b2-b12f-4274-97d4-4d502fe4211d",
   "metadata": {
    "tags": []
   },
   "source": [
    "Gather the following variables:\n",
    "\n",
    "* database name\n",
    "* path to the Net-Manage repository\n",
    "* private data directory\n",
    "* path to store the output\n",
    "* Meraki API key (if applicable)\n",
    "* Credentials to login to devices (if applicable)\n",
    "\n",
    "**Note:** The inventory file is statically set to *private_data_dir/inventory/hosts*\n",
    "\n",
    "#### Explanation of Variables\n",
    "\n",
    "### database name\n",
    "\n",
    "defaults to the current date, in YYYY-MM-DD format--e.g., ```2023-01-05.db```\n",
    "\n",
    "##### path to the Net-Manage repository\n",
    "\n",
    "defaults to ```~/source/repos/InsightSSG/Net-Manage```\n",
    "\n",
    "##### Path to the Ansible Private Data Directory\n",
    "\n",
    "This is the folder that contains the inventory folder (not the host file).<br><br>\n",
    "For example, If your folder structure looks like this:```tenants/client_a/inventory/hosts```<br><br>\n",
    "Then the private data directory would be```tenants/client_a```\n",
    "\n",
    "##### path to store the output\n",
    "\n",
    "Path to store the database and other script output. Defaults to 'private_data_dir/output'\n",
    "\n",
    "**note:** Ansible-runner output, like artifacts, will still be stored in the private data directory\n",
    "\n",
    "##### Example folder structure\n",
    "\n",
    "* Net-Manage path: *~/source/repos/InsightSSG/Net-Manage*\n",
    "\n",
    "* Private data directory: *~/tenant_data/*\n",
    "\n",
    "* Inventory file: *~/tenant_data/inventory/hosts*"
   ]
  },
  {
   "cell_type": "markdown",
   "id": "08f88251-3e98-4d24-a1be-772d64d3bcb7",
   "metadata": {
    "tags": []
   },
   "source": [
    "### Enter Variables"
   ]
  },
  {
   "cell_type": "code",
   "execution_count": null,
   "id": "65949dfb-2858-4cba-83ea-3e01810b9f03",
   "metadata": {
    "tags": []
   },
   "outputs": [],
   "source": [
    "from getpass import getpass\n",
    "api_key, db, db_path, inventories, npm_server, npm_username, npm_password, nm_path, out_path, private_data_dir = hp.set_vars()\n",
    "play_path = f'{nm_path}/playbooks'\n",
    "username, password = hp.get_creds('device')\n",
    "infoblox_host = input('Enter the IP or FQDN of the Infoblox host: ')\n",
    "infoblox_username, infoblox_password = hp.get_creds('Infoblox')\n",
    "nb_path = input('Enter the IP or FQDN of the Netbox host: ')\n",
    "nb_token = getpass('Enter your Netbox API token: ')"
   ]
  },
  {
   "cell_type": "markdown",
   "id": "dfa1802a-653d-4833-b2ca-3be407d25c82",
   "metadata": {},
   "source": [
    "# Select and Run Collectors"
   ]
  },
  {
   "cell_type": "markdown",
   "id": "6cdaba1e-c8b1-4b33-a76b-3f9e95152261",
   "metadata": {
    "tags": []
   },
   "source": [
    "## Select the hostgroups to run the collectors on"
   ]
  },
  {
   "cell_type": "markdown",
   "id": "5f4518b3-27e3-4f45-af04-3dd7304f94a5",
   "metadata": {},
   "source": [
    "**Note:**\n",
    "\n",
    "* If running this in a miniconda environment and the widget does not display, run the command below.\n",
    "* See: https://stackoverflow.com/questions/36351109/ipython-notebook-ipywidgets-does-not-show\n",
    "\n",
    "```\n",
    "jupyter nbextension enable --py --sys-prefix widgetsnbextension\n",
    "```"
   ]
  },
  {
   "cell_type": "code",
   "execution_count": null,
   "id": "fc456f0e-f450-4923-a283-4c8f191608c0",
   "metadata": {
    "tags": []
   },
   "outputs": [],
   "source": [
    "hostgroup_select = select_hostgroups(private_data_dir)\n",
    "for key in sorted(hostgroup_select.keys()):\n",
    "    print(key.upper())\n",
    "    display(widgets.GridBox(hostgroup_select[key],\n",
    "                            layout=widgets.Layout(grid_template_columns='repeat(3, 200px)')))\n",
    "    print('\\n')"
   ]
  },
  {
   "cell_type": "markdown",
   "id": "3ae24f08-41fc-44bb-9433-21ef0d4f5271",
   "metadata": {},
   "source": [
    "## Select the collectors to run"
   ]
  },
  {
   "cell_type": "code",
   "execution_count": null,
   "id": "0579f075-fc4c-4a6b-a1de-baa0a02d5da1",
   "metadata": {
    "tags": []
   },
   "outputs": [],
   "source": [
    "collector_select = select_collectors(collector_select, hostgroup_select)\n",
    "for key in sorted(collector_select.keys()):\n",
    "    print(key.upper())\n",
    "    display(widgets.GridBox(collector_select[key],\n",
    "                            layout=widgets.Layout(grid_template_columns='repeat(3, 250px)')))\n",
    "    print('\\n')"
   ]
  },
  {
   "cell_type": "markdown",
   "id": "619732e3-bd02-4cef-96ed-b165b161e749",
   "metadata": {
    "jp-MarkdownHeadingCollapsed": true,
    "tags": []
   },
   "source": [
    "### Select Meraki Organizations and Networks (if applicable)"
   ]
  },
  {
   "cell_type": "markdown",
   "id": "6ee8ca92-c8d5-4e8a-b74f-2bff5a1dc7a3",
   "metadata": {
    "tags": []
   },
   "source": [
    "#### Debugging"
   ]
  },
  {
   "cell_type": "code",
   "execution_count": null,
   "id": "f2049033-1881-4bd4-96c9-1865981af031",
   "metadata": {},
   "outputs": [],
   "source": [
    "# This cell is only here for debugging\n",
    "\n",
    "import run_collectors as rc\n",
    "from collectors import collectors as cl\n",
    "from collectors import meraki_collectors as mc\n",
    "from helpers import helpers as hp\n",
    "\n",
    "importlib.reload(cl)\n",
    "importlib.reload(hp)\n",
    "importlib.reload(mc)\n",
    "importlib.reload(rc)"
   ]
  },
  {
   "cell_type": "markdown",
   "id": "79145bf3-f29b-493f-afad-617de7dfab68",
   "metadata": {
    "tags": []
   },
   "source": [
    "#### Instructions"
   ]
  },
  {
   "cell_type": "markdown",
   "id": "f453367c-9b34-4ed7-805c-6b033150e997",
   "metadata": {},
   "source": [
    "**Organizations**\n",
    "\n",
    "A comma-delimited list of organizations. If left blank, all organizations will be queried.\n",
    "\n",
    "**Networks**\n",
    "\n",
    "A comma-delimited list of network IDs. Defaults to 'all', but some collectors require one or more network IDs.\n",
    "\n",
    "**MAC Addresses**\n",
    "\n",
    "A comma-delimited list of MAC addresses. Used for filtering the output of some collectors, like ```meraki_get_network_clients```\n",
    "\n",
    "**Lookback Timespan**\n",
    "\n",
    "The lookback timespan in seconds. Defaults to 86400 (1 day). Formulas are accepted, like ```60*60*24*30```\n",
    "\n",
    "**Number of Results Per Page**\n",
    "\n",
    "The number of results per page to return. Accepted values are 3-1000. Defaults to ```1000```.\n",
    "\n",
    "**Total Number of Pages to Return**\n",
    "\n",
    "The total number of pages to return. Defaults to ```all```"
   ]
  },
  {
   "cell_type": "markdown",
   "id": "825e8f27-22bd-422b-989a-96b916212a21",
   "metadata": {
    "tags": []
   },
   "source": [
    "#### Enter Variables"
   ]
  },
  {
   "cell_type": "code",
   "execution_count": null,
   "id": "9c667634-e889-4e67-ad90-cb14aaed1092",
   "metadata": {},
   "outputs": [],
   "source": [
    "for collector in collector_select['meraki']:\n",
    "    if collector.value:\n",
    "        orgs, networks, macs, timespan, per_page, total_pages = hp.get_user_meraki_input()\n",
    "        break"
   ]
  },
  {
   "cell_type": "markdown",
   "id": "b4993491-99db-4247-98c7-b0a69674d7a7",
   "metadata": {},
   "source": [
    "## Run Collectors"
   ]
  },
  {
   "cell_type": "code",
   "execution_count": null,
   "id": "4f19d1ca-1ee1-4652-a67c-f3f2cd6a64d5",
   "metadata": {
    "tags": []
   },
   "outputs": [],
   "source": [
    "%%time\n",
    "\n",
    "# Reload imported modules (used for debugging)\n",
    "import run_collectors as rc\n",
    "from collectors import collectors as cl\n",
    "from collectors import infoblox_nios_collectors as nc\n",
    "from collectors import meraki_collectors as mc\n",
    "from collectors import netbox_collectors as nbc\n",
    "from collectors import solarwinds_collectors as swc\n",
    "from helpers import helpers as hp\n",
    "importlib.reload(cl)\n",
    "importlib.reload(hp)\n",
    "importlib.reload(rc)\n",
    "importlib.reload(nc)\n",
    "importlib.reload(mc)\n",
    "importlib.reload(nbc)\n",
    "importlib.reload(swc)\n",
    "\n",
    "# Create a dataframe of collectors to run\n",
    "print('COLLECTORS TO RUN\\n')\n",
    "df_collectors = create_collectors_df(collector_select, hostgroup_select)\n",
    "display(df_collectors.style.hide(axis=\"index\"))\n",
    "\n",
    "# Set the timestamp so it will be consistent for all collectors\n",
    "ts = dt.datetime.now()\n",
    "ts = ts.strftime('%Y-%m-%d_%H%M')\n",
    "\n",
    "# Execute the collectors\n",
    "for idx, row in df_collectors.iterrows():\n",
    "    ansible_os = row['ansible_os']\n",
    "    hostgroup = row['hostgroup']\n",
    "    collector = row['collector']\n",
    "    result = rc.collect(collector,\n",
    "                        nm_path,\n",
    "                        private_data_dir,\n",
    "                        ts,\n",
    "                        ansible_os=ansible_os,\n",
    "                        username=username,\n",
    "                        password=password,\n",
    "                        api_key=api_key,\n",
    "                        hostgroup=hostgroup,\n",
    "                        play_path=play_path,\n",
    "                        db_path=db_path,\n",
    "                        infoblox_host=infoblox_host,\n",
    "                        infoblox_user=infoblox_username,\n",
    "                        infoblox_pass=infoblox_password,\n",
    "                        infoblox_paging=True,\n",
    "                        nb_path=nb_path,\n",
    "                        nb_token=nb_token,\n",
    "                        npm_password=npm_password,\n",
    "                        npm_server=npm_server,\n",
    "                        npm_username=npm_username,\n",
    "                        orgs=orgs,\n",
    "                        networks=networks,\n",
    "                        macs=macs,\n",
    "                        timespan=timespan,\n",
    "                        per_page=per_page,\n",
    "                        total_pages=total_pages,\n",
    "                        validate_certs=False,\n",
    "                        method='append')\n",
    "    print(f'\\nRESULT: {ansible_os.upper()} {collector.upper()} COLLECTOR\\n')\n",
    "    display(result)"
   ]
  },
  {
   "cell_type": "markdown",
   "id": "0bfb7266-c058-4475-ba14-34b248b36fd8",
   "metadata": {},
   "source": [
    "# Run Validators"
   ]
  },
  {
   "cell_type": "markdown",
   "id": "50e94114-acc7-486f-834a-90754d75e1e0",
   "metadata": {
    "tags": []
   },
   "source": [
    "## Reload imported modules (optional; used for testing)"
   ]
  },
  {
   "cell_type": "code",
   "execution_count": null,
   "id": "9a6dda74-5de8-4075-b6c7-1866664d3fc4",
   "metadata": {},
   "outputs": [],
   "source": [
    "import run_collectors as rc\n",
    "import validators as vl\n",
    "from collectors import collectors as cl\n",
    "from collectors import meraki_collectors as mc\n",
    "from helpers import helpers as hp\n",
    "\n",
    "importlib.reload(cl)\n",
    "importlib.reload(mc)\n",
    "importlib.reload(hp)\n",
    "importlib.reload(rc)\n",
    "importlib.reload(vl)"
   ]
  },
  {
   "cell_type": "markdown",
   "id": "5aaacd82-996e-4b76-958a-c19e2d999122",
   "metadata": {
    "tags": []
   },
   "source": [
    "## F5 Validators"
   ]
  },
  {
   "cell_type": "markdown",
   "id": "ca596bf6-f837-4463-b78f-7fd15a56f25a",
   "metadata": {
    "tags": []
   },
   "source": [
    "### ```f5_vip_availability```"
   ]
  },
  {
   "cell_type": "code",
   "execution_count": null,
   "id": "c7617b33-5350-4d90-930d-3e3fe1a467e8",
   "metadata": {},
   "outputs": [],
   "source": [
    "df_diff = vl.f5_vip_availability(db_path, 'f5_vip_availability')\n",
    "display(df_diff)"
   ]
  },
  {
   "cell_type": "markdown",
   "id": "1bc670a1-4826-4cd0-9977-80ede8d36a6a",
   "metadata": {
    "tags": []
   },
   "source": [
    "### ```f5_pool_availability```"
   ]
  },
  {
   "cell_type": "code",
   "execution_count": null,
   "id": "bd93dbf2-0103-4bb2-b583-3c31493c8f66",
   "metadata": {},
   "outputs": [],
   "source": [
    "df_diff = vl.f5_pool_availability(db_path, 'f5_pool_availability')\n",
    "display(df_diff)"
   ]
  },
  {
   "cell_type": "markdown",
   "id": "5a656f26-ed87-4015-b54a-46b7d4bba2a6",
   "metadata": {
    "tags": []
   },
   "source": [
    "### ```f5_pool_member_availability```"
   ]
  },
  {
   "cell_type": "code",
   "execution_count": null,
   "id": "5855f2a6-77a8-448c-88ca-428924762361",
   "metadata": {},
   "outputs": [],
   "source": [
    "df_diff = vl.f5_pool_member_availability(db_path, 'f5_pool_member_availability')\n",
    "display(df_diff)"
   ]
  },
  {
   "cell_type": "markdown",
   "id": "8f703d07-b291-4d8c-92d9-62a369e2337b",
   "metadata": {},
   "source": [
    "## Meraki Validators"
   ]
  },
  {
   "cell_type": "markdown",
   "id": "02bfa318-3b37-4654-9afb-01ad278345fa",
   "metadata": {},
   "source": [
    "### ```meraki_get_org_device_statuses```"
   ]
  },
  {
   "cell_type": "code",
   "execution_count": null,
   "id": "decf3a86-81ae-4aeb-b432-08ec7b07aa64",
   "metadata": {},
   "outputs": [],
   "source": [
    "%%time\n",
    "df_diff = vl.meraki_device_statuses_availability(db_path, 'meraki_get_org_device_statuses')\n",
    "if len(df_diff) > 0:\n",
    "    display(df_diff.sort_values(by='networkId', ascending=True).style.hide(axis=\"index\"))\n",
    "else:\n",
    "    display(df_diff)"
   ]
  }
 ],
 "metadata": {
  "kernelspec": {
   "display_name": "Python 3 (ipykernel)",
   "language": "python",
   "name": "python3"
  },
  "language_info": {
   "codemirror_mode": {
    "name": "ipython",
    "version": 3
   },
   "file_extension": ".py",
   "mimetype": "text/x-python",
   "name": "python",
   "nbconvert_exporter": "python",
   "pygments_lexer": "ipython3",
   "version": "3.10.9"
  }
 },
 "nbformat": 4,
 "nbformat_minor": 5
}
