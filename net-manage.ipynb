{
 "cells": [
  {
   "cell_type": "markdown",
   "id": "e3232f4d-f53f-40a3-ab73-e3e10dcf48b0",
   "metadata": {},
   "source": [
    "# Setup"
   ]
  },
  {
   "cell_type": "code",
   "execution_count": 1,
   "id": "16ac76f9-d2d7-4da8-909c-4527179ead70",
   "metadata": {},
   "outputs": [],
   "source": [
    "import importlib\n",
    "import ipywidgets as widgets\n",
    "import jupyterlab_widgets\n",
    "import readline\n",
    "import run_collectors as rc\n",
    "from IPython.display import display\n",
    "\n",
    "# Reload helper modules after changes. Mostly used for development.\n",
    "importlib.reload(rc)\n",
    "\n",
    "# Do not write history to .python_history to protect credentials\n",
    "readline.write_history_file = lambda *args: None"
   ]
  },
  {
   "cell_type": "code",
   "execution_count": 2,
   "id": "4bea29e2-ee1e-499e-8337-223fb4be3393",
   "metadata": {},
   "outputs": [],
   "source": [
    "# Define available collectors for the user to select later.\n",
    "selected = rc.define_collectors()\n",
    "selected = [widgets.Checkbox(value=False,\n",
    "                             description=c,\n",
    "                             disabled=False,\n",
    "                             indent=False) for c in selected]"
   ]
  },
  {
   "cell_type": "code",
   "execution_count": 6,
   "id": "432260f7-f38d-4677-832d-6ef966912a8a",
   "metadata": {},
   "outputs": [],
   "source": [
    "# Define available hostgroups for the user to collect later\n",
    "hostgroups = ['nexuses', 'ios_routers', 'ios_switches', 'asas', 'f5_ltms', 'ungrouped']\n",
    "hostgroups = [widgets.Checkbox(value=False,\n",
    "                               description=h,\n",
    "                               disabled=False,\n",
    "                               indent=False) for h in hostgroups]"
   ]
  },
  {
   "cell_type": "markdown",
   "id": "dfa1802a-653d-4833-b2ca-3be407d25c82",
   "metadata": {},
   "source": [
    "# Select and Run Collectors"
   ]
  },
  {
   "cell_type": "markdown",
   "id": "346d98de-8493-4e46-b004-cecae959abe9",
   "metadata": {},
   "source": [
    "## Select the hostgroups to run the collectors on"
   ]
  },
  {
   "cell_type": "code",
   "execution_count": 8,
   "id": "897ca064-d5f8-4bb7-bc6b-ed8655c78ac7",
   "metadata": {},
   "outputs": [
    {
     "data": {
      "application/vnd.jupyter.widget-view+json": {
       "model_id": "12ab71e116494bbcae1c676031a6fc02",
       "version_major": 2,
       "version_minor": 0
      },
      "text/plain": [
       "GridBox(children=(Checkbox(value=False, description='nexuses', indent=False), Checkbox(value=False, descriptio…"
      ]
     },
     "execution_count": 8,
     "metadata": {},
     "output_type": "execute_result"
    }
   ],
   "source": [
    "widgets.GridBox(hostgroups, layout=widgets.Layout(grid_template_columns=\"repeat(3, 200px)\"))"
   ]
  },
  {
   "cell_type": "markdown",
   "id": "3ae24f08-41fc-44bb-9433-21ef0d4f5271",
   "metadata": {},
   "source": [
    "## Select the collectors to run"
   ]
  },
  {
   "cell_type": "code",
   "execution_count": 7,
   "id": "0a49c686-3ac7-42dd-9943-7ea5638700a3",
   "metadata": {},
   "outputs": [
    {
     "data": {
      "application/vnd.jupyter.widget-view+json": {
       "model_id": "8a31667d605d475eb5a3333287c681f5",
       "version_major": 2,
       "version_minor": 0
      },
      "text/plain": [
       "GridBox(children=(Checkbox(value=False, description='arp_table', indent=False), Checkbox(value=False, descript…"
      ]
     },
     "execution_count": 7,
     "metadata": {},
     "output_type": "execute_result"
    }
   ],
   "source": [
    "widgets.GridBox(selected, layout=widgets.Layout(grid_template_columns=\"repeat(3, 200px)\"))"
   ]
  },
  {
   "cell_type": "markdown",
   "id": "6fb1ac5d-20b5-4130-a042-265350c5c12b",
   "metadata": {},
   "source": [
    "# Select and Run Validators"
   ]
  },
  {
   "cell_type": "code",
   "execution_count": null,
   "id": "8824804d-b13e-479e-a819-5fd31c4be58a",
   "metadata": {},
   "outputs": [],
   "source": []
  },
  {
   "cell_type": "markdown",
   "id": "7d389232-1db5-4dc9-aaf5-add5703b338c",
   "metadata": {},
   "source": [
    "# The cells below are a scratchpad for development. They will not be in production."
   ]
  },
  {
   "cell_type": "code",
   "execution_count": 14,
   "id": "1fc63911-e777-4209-83f8-82aa0e2b2d01",
   "metadata": {},
   "outputs": [
    {
     "name": "stdout",
     "output_type": "stream",
     "text": [
      "['all', 'ungrouped']\n"
     ]
    }
   ],
   "source": [
    "import ansible_runner\n",
    "import os\n",
    "def ansible_get_hostgroup_devices(hostgroup, host_files, quiet=True):\n",
    "    '''\n",
    "    Gets the devices inside an Ansible inventory hostgroup.\n",
    "    Args:\n",
    "        hostgroup (str):   The Ansible hostgroup\n",
    "        host_files (list): The path to one or more Ansible host files\n",
    "                           (I.e., ['inventory/hosts'])\n",
    "        quiet (bool):      Whether to output the entire graph.\n",
    "    Returns:\n",
    "        devices (list):  A list of devices in the hostgroup\n",
    "    '''\n",
    "    # TODO: Ansible is slow to read the inventory file. I thought about reading\n",
    "    #       the YAML files directly, but not all users will be using YAML. So,\n",
    "    #       there might be another way to optimize this, or it could be\n",
    "    #       acceptable to leave it as is. I'll have to run more tests.\n",
    "    graph = ansible_runner.interface.get_inventory('graph',\n",
    "                                                   host_files,\n",
    "                                                   quiet=True)\n",
    "    # TODO: This is a hack. There are better ways to parse the graph.\n",
    "    graph = str(graph)\n",
    "    for item in graph.split('@'):\n",
    "        if hostgroup in item:\n",
    "            item = item.split(':')[-1]\n",
    "            item = item.split('|--')[1:-1]\n",
    "            devices = [i.split('\\\\')[0] for i in item]\n",
    "            break\n",
    "    return devices\n",
    "\n",
    "\n",
    "def ansible_get_hostgroups(host_files, quiet=True):\n",
    "    '''\n",
    "    Gets the devices inside an Ansible inventory hostgroup.\n",
    "    Args:\n",
    "        host_files (list): The path to one or more Ansible host files\n",
    "                           (I.e., ['inventory/hosts'])\n",
    "        quiet (bool):      Whether to output the entire graph.\n",
    "    Returns:\n",
    "        devices (list):  A list of devices in the hostgroup\n",
    "    '''\n",
    "    graph = ansible_runner.interface.get_inventory('graph',\n",
    "                                                   host_files,\n",
    "                                                   quiet=True)\n",
    "    graph = str(graph).strip(\"('\")\n",
    "    # graph = list(filter(None, graph))\n",
    "    hostgroups = list()\n",
    "    graph = list(filter(None, graph.split('@')))\n",
    "    for item in graph:\n",
    "        hostgroup = item.split(':')[0]\n",
    "        hostgroups.append(hostgroup)\n",
    "    return hostgroups\n",
    "\n",
    "\n",
    "tenant = 'tenant_1'\n",
    "inventories = [f'~/source/repos/InsightSSG/Net-Runbooks/tenants/{tenant}/inventory/hosts']\n",
    "inventors = [os.path.expanduser(_) for _ in inventories]\n",
    "inventories = [os.path.expanduser(f'~/source/repos/InsightSSG/Net-Runbooks/tenants/{tenant}/inventory/hosts')]\n",
    "\n",
    "hostgroups = ansible_get_hostgroups(inventories)\n",
    "print(hostgroups)"
   ]
  },
  {
   "cell_type": "code",
   "execution_count": null,
   "id": "2e6ae8ae-1be5-44e7-8702-2a29275fee63",
   "metadata": {},
   "outputs": [],
   "source": [
    "# I copied this function from the ansible_runner documentation so that it will\n",
    "# be easy to reference during development. This function is not part of the\n",
    "# Net-Manage code.\n",
    "\n",
    "def get_inventory(action, inventories, response_format=None, host=None, playbook_dir=None,\n",
    "                  vault_ids=None, vault_password_file=None, output_file=None, export=None, **kwargs):\n",
    "    '''\n",
    "    Run an ansible-inventory command to get inventory related details.\n",
    "\n",
    "    :param action: Valid values are one of ``graph``, ``host``, ``list``\n",
    "                   ``graph`` create inventory graph, ``host`` returns specific host info and works as inventory script and\n",
    "                   ``list`` output all hosts info and also works as inventory script.\n",
    "    :param inventories: List of inventory host path.\n",
    "    :param response_format: The output format for response. Valid values can be one of ``json``, ``yaml``, ``toml``.\n",
    "                            Default is ``json``. If ``action`` is ``graph`` only allowed value is ``json``.\n",
    "    :param host: When ``action`` is set to ``host`` this parameter is used to get the host specific information.\n",
    "    :param playbook_dir: This parameter is used to sets the relative path for the inventory.\n",
    "    :param vault_ids: The vault identity to use.\n",
    "    :param vault_password_file: The vault password files to use.\n",
    "    :param output_file: The file path in which inventory details should be sent to.\n",
    "    :param export: The boolean value if set represent in a way that is optimized for export,not as an accurate\n",
    "                   representation of how Ansible has processed it.\n",
    "    :param runner_mode: The applicable values are ``pexpect`` and ``subprocess``. Default is set to ``subprocess``.\n",
    "    :param host_cwd: The host current working directory to be mounted within the container (if enabled) and will be\n",
    "                     the work directory within container.\n",
    "    :param envvars: Environment variables to be used when running Ansible. Environment variables will also be\n",
    "                    read from ``env/envvars`` in ``private_data_dir``\n",
    "    :param passwords: A dictionary containing password prompt patterns and response values used when processing output from\n",
    "                      Ansible. Passwords will also be read from ``env/passwords`` in ``private_data_dir``.\n",
    "    :param settings: A dictionary containing settings values for the ``ansible-runner`` runtime environment. These will also\n",
    "                     be read from ``env/settings`` in ``private_data_dir``.\n",
    "    :param ssh_key: The ssh private key passed to ``ssh-agent`` as part of the ansible-playbook run.\n",
    "    :param quiet: Disable all output\n",
    "    :param json_mode: Store event data in place of stdout on the console and in the stdout file\n",
    "    :param artifact_dir: The path to the directory where artifacts should live, this defaults to 'artifacts' under the private data dir\n",
    "    :param project_dir: The path to the playbook content, this defaults to 'project' within the private data dir\n",
    "    :param rotate_artifacts: Keep at most n artifact directories, disable with a value of 0 which is the default\n",
    "    :param timeout: The timeout value in seconds that will be passed to either ``pexpect`` of ``subprocess`` invocation\n",
    "                    (based on ``runner_mode`` selected) while executing command. It the timeout is triggered it will force cancel the\n",
    "                    execution.\n",
    "    :param process_isolation: Enable process isolation, using a container engine (e.g. podman).\n",
    "    :param process_isolation_executable: Process isolation executable or container engine used to isolate execution. (default: podman)\n",
    "    :param container_image: Container image to use when running an ansible task (default: quay.io/ansible/ansible-runner:devel)\n",
    "    :param container_volume_mounts: List of bind mounts in the form 'host_dir:/container_dir:labels. (default: None)\n",
    "    :param container_options: List of container options to pass to execution engine.\n",
    "    :param container_workdir: The working directory within the container.\n",
    "    :param fact_cache: A string that will be used as the name for the subdirectory of the fact cache in artifacts directory.\n",
    "                       This is only used for 'jsonfile' type fact caches.\n",
    "    :param fact_cache_type: A string of the type of fact cache to use.  Defaults to 'jsonfile'.\n",
    "    :param private_data_dir: The directory containing all runner metadata needed to invoke the runner\n",
    "                             module. Output artifacts will also be stored here for later consumption.\n",
    "    :param ident: The run identifier for this invocation of Runner. Will be used to create and name\n",
    "                  the artifact directory holding the results of the invocation.\n",
    "    :param event_handler: An optional callback that will be invoked any time an event is received by Runner itself, return True to keep the event\n",
    "    :param cancel_callback: An optional callback that can inform runner to cancel (returning True) or not (returning False)\n",
    "    :param finished_callback: An optional callback that will be invoked at shutdown after process cleanup.\n",
    "    :param status_handler: An optional callback that will be invoked any time the status changes (e.g...started, running, failed, successful, timeout)\n",
    "    :param artifacts_handler: An optional callback that will be invoked at the end of the run to deal with the artifacts from the run.\n",
    "    :param check_job_event_data: Check if job events data is completely generated. If event data is not completely generated and if\n",
    "                                 value is set to 'True' it will raise 'AnsibleRunnerException' exception,\n",
    "                                 if set to 'False' it log a debug message and continue execution. Default value is 'False'\n",
    "    :type action: str\n",
    "    :type inventories: list\n",
    "    :type response_format: str\n",
    "    :type host: str\n",
    "    :type playbook_dir: str\n",
    "    :type vault_ids: str\n",
    "    :type vault_password_file: str\n",
    "    :type output_file: str\n",
    "    :type export: bool\n",
    "    :type runner_mode: str\n",
    "    :type host_cwd: str\n",
    "    :type envvars: dict\n",
    "    :type passwords: dict\n",
    "    :type settings: dict\n",
    "    :type private_data_dir: str\n",
    "    :type project_dir: str\n",
    "    :type artifact_dir: str\n",
    "    :type fact_cache_type: str\n",
    "    :type fact_cache: str\n",
    "    :type process_isolation: bool\n",
    "    :type process_isolation_executable: str\n",
    "    :type container_image: str\n",
    "    :type container_volume_mounts: list\n",
    "    :type container_options: list\n",
    "    :type container_workdir: str\n",
    "    :type ident: str\n",
    "    :type rotate_artifacts: int\n",
    "    :type timeout: int\n",
    "    :type ssh_key: str\n",
    "    :type quiet: bool\n",
    "    :type json_mode: bool\n",
    "    :type event_handler: Callable\n",
    "    :type cancel_callback: Callable\n",
    "    :type finished_callback: Callable\n",
    "    :type status_handler: Callable\n",
    "    :type artifacts_handler: Callable\n",
    "    :type check_job_event_data: bool\n",
    "\n",
    "    :returns: Returns a tuple of response and error string. In case if ``runner_mode`` is set to ``pexpect`` the error value is\n",
    "              empty as ``pexpect`` uses same output descriptor for stdout and stderr. If the vaue of ``response_format`` is ``json``\n",
    "              it returns a python dictionary object.\n",
    "    '''\n",
    "\n",
    "    event_callback_handler = kwargs.pop('event_handler', None)\n",
    "    status_callback_handler = kwargs.pop('status_handler', None)\n",
    "    artifacts_handler = kwargs.pop('artifacts_handler', None)\n",
    "    cancel_callback = kwargs.pop('cancel_callback', None)\n",
    "    finished_callback = kwargs.pop('finished_callback', None)\n",
    "\n",
    "    rd = InventoryConfig(**kwargs)\n",
    "    rd.prepare_inventory_command(action=action, inventories=inventories, response_format=response_format, host=host, playbook_dir=playbook_dir,\n",
    "                                 vault_ids=vault_ids, vault_password_file=vault_password_file, output_file=output_file, export=export)\n",
    "    r = Runner(rd,\n",
    "               event_handler=event_callback_handler,\n",
    "               status_handler=status_callback_handler,\n",
    "               artifacts_handler=artifacts_handler,\n",
    "               cancel_callback=cancel_callback,\n",
    "               finished_callback=finished_callback)\n",
    "    r.run()\n",
    "    response = r.stdout.read()\n",
    "    error = r.stderr.read()\n",
    "    if response and response_format == 'json':\n",
    "        response = json.loads(sanitize_json_response(response))\n",
    "    return response, error"
   ]
  },
  {
   "cell_type": "code",
   "execution_count": 15,
   "id": "d1201b37-de7c-420d-97b8-92f1b58d812b",
   "metadata": {},
   "outputs": [
    {
     "name": "stdout",
     "output_type": "stream",
     "text": [
      "['Accordion', 'AppLayout', 'Audio', 'BoundedFloatText', 'BoundedIntText', 'Box', 'Button', 'ButtonStyle', 'CallbackDispatcher', 'Checkbox', 'Color', 'ColorPicker', 'ColorsInput', 'Combobox', 'Controller', 'CoreWidget', 'DOMWidget', 'DatePicker', 'Datetime', 'DatetimePicker', 'Dropdown', 'FileUpload', 'FloatLogSlider', 'FloatProgress', 'FloatRangeSlider', 'FloatSlider', 'FloatText', 'FloatsInput', 'GridBox', 'GridspecLayout', 'HBox', 'HTML', 'HTMLMath', 'Image', 'IntProgress', 'IntRangeSlider', 'IntSlider', 'IntText', 'IntsInput', 'Label', 'Layout', 'NumberFormat', 'Output', 'Password', 'Play', 'RadioButtons', 'Select', 'SelectMultiple', 'SelectionRangeSlider', 'SelectionSlider', 'SliderStyle', 'Stack', 'Style', 'Tab', 'TagsInput', 'Text', 'Textarea', 'TimePicker', 'ToggleButton', 'ToggleButtons', 'ToggleButtonsStyle', 'TwoByTwoLayout', 'TypedTuple', 'VBox', 'Valid', 'ValueWidget', 'Video', 'Widget', '__builtins__', '__cached__', '__doc__', '__file__', '__jupyter_widgets_base_version__', '__jupyter_widgets_controls_version__', '__loader__', '__name__', '__package__', '__path__', '__protocol_version__', '__spec__', '__version__', '_handle_ipython', '_version', 'dlink', 'docutils', 'domwidget', 'fixed', 'get_ipython', 'interact', 'interact_manual', 'interaction', 'interactive', 'interactive_output', 'jsdlink', 'jslink', 'link', 'load_ipython_extension', 'os', 'register', 'register_comm_target', 'trait_types', 'valuewidget', 'widget', 'widget_bool', 'widget_box', 'widget_button', 'widget_color', 'widget_controller', 'widget_core', 'widget_date', 'widget_datetime', 'widget_description', 'widget_float', 'widget_int', 'widget_layout', 'widget_link', 'widget_media', 'widget_output', 'widget_selection', 'widget_selectioncontainer', 'widget_serialization', 'widget_string', 'widget_style', 'widget_tagsinput', 'widget_templates', 'widget_time', 'widget_upload', 'widgets']\n"
     ]
    }
   ],
   "source": [
    "print(dir(widgets))"
   ]
  },
  {
   "cell_type": "code",
   "execution_count": 16,
   "id": "98afa4f4-0020-42f9-85cc-a7b6b2fd826d",
   "metadata": {},
   "outputs": [
    {
     "data": {
      "application/vnd.jupyter.widget-view+json": {
       "model_id": "19fe7d9cce2e4d1482a4d3026b9051f5",
       "version_major": 2,
       "version_minor": 0
      },
      "text/plain": [
       "Button(description='Click Me!', style=ButtonStyle())"
      ]
     },
     "metadata": {},
     "output_type": "display_data"
    },
    {
     "data": {
      "application/vnd.jupyter.widget-view+json": {
       "model_id": "9e7a590bf108444484ff8e90445a3dca",
       "version_major": 2,
       "version_minor": 0
      },
      "text/plain": [
       "Output()"
      ]
     },
     "metadata": {},
     "output_type": "display_data"
    }
   ],
   "source": [
    "from IPython.display import display\n",
    "button = widgets.Button(description=\"Click Me!\")\n",
    "output = widgets.Output()\n",
    "\n",
    "display(button, output)\n",
    "\n",
    "def on_button_clicked(b):\n",
    "    with output:\n",
    "        print(\"Button clicked.\")\n",
    "\n",
    "button.on_click(on_button_clicked)"
   ]
  },
  {
   "cell_type": "code",
   "execution_count": null,
   "id": "a7d2895c-9547-4e4a-bea2-8360b5bdfb62",
   "metadata": {},
   "outputs": [],
   "source": []
  }
 ],
 "metadata": {
  "kernelspec": {
   "display_name": "Python 3 (ipykernel)",
   "language": "python",
   "name": "python3"
  },
  "language_info": {
   "codemirror_mode": {
    "name": "ipython",
    "version": 3
   },
   "file_extension": ".py",
   "mimetype": "text/x-python",
   "name": "python",
   "nbconvert_exporter": "python",
   "pygments_lexer": "ipython3",
   "version": "3.8.10"
  }
 },
 "nbformat": 4,
 "nbformat_minor": 5
}
