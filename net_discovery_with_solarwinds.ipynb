{
 "cells": [
  {
   "cell_type": "markdown",
   "id": "ddf587b1-2e81-4cca-ac7c-a5e98ab0bf8b",
   "metadata": {},
   "source": [
    "# Introduction"
   ]
  },
  {
   "cell_type": "markdown",
   "id": "b25c06a3-3b64-4caa-bfcb-12bdabc9a72d",
   "metadata": {},
   "source": [
    "This notebook performs network discovery. It uses Solarwinds NPM as the source of truth for device data."
   ]
  },
  {
   "cell_type": "markdown",
   "id": "8e27c77a-14ab-4bd2-aa5b-ad7f6ca50550",
   "metadata": {},
   "source": [
    "# Setup"
   ]
  },
  {
   "cell_type": "code",
   "execution_count": null,
   "id": "d2ec50f5-350f-4ee5-9276-21693f311d10",
   "metadata": {
    "tags": []
   },
   "outputs": [],
   "source": [
    "import importlib\n",
    "from netmanage import run_collectors\n",
    "\n",
    "from netmanage.helpers import helpers as hp\n",
    "from netmanage.helpers import netbox_helpers\n",
    "from netmanage.collectors import cisco_ios_collectors as cic\n",
    "from netmanage.collectors import f5_collectors\n",
    "from netmanage.collectors import meraki_collectors\n",
    "from netmanage.collectors import palo_alto_collectors\n",
    "from netmanage.collectors import solarwinds_collectors as swc\n",
    "from datetime import datetime as dt\n",
    "from getpass import getpass"
   ]
  },
  {
   "cell_type": "markdown",
   "id": "916da83a-1a27-4b63-975f-09ea09631f85",
   "metadata": {},
   "source": [
    "## Setup: Get Solarwinds path and credentials."
   ]
  },
  {
   "cell_type": "code",
   "execution_count": null,
   "id": "bb420aa2-aa20-44e5-a425-500328aa7fbd",
   "metadata": {
    "tags": []
   },
   "outputs": [],
   "source": [
    "npm_server = input('Enter the Solarwinds NPM URL:')\n",
    "npm_username = input('Enter your Solarwinds username:')\n",
    "npm_password = getpass('Enter your Solarwinds password:')"
   ]
  },
  {
   "cell_type": "markdown",
   "id": "47154e64-d1c2-48fc-a35a-04a831aea5b3",
   "metadata": {},
   "source": [
    "## Setup: Set output directory"
   ]
  },
  {
   "cell_type": "code",
   "execution_count": null,
   "id": "5a839c59-8428-41c8-8a63-bd55d0967bb1",
   "metadata": {
    "tags": []
   },
   "outputs": [],
   "source": [
    "db_path = input('Enter the full path to the output directory:')\n",
    "\n",
    "default_db = f'{str(dt.now()).split()[0]}.db'\n",
    "db = input(f'Enter the name of the database: [{default_db}]')"
   ]
  },
  {
   "cell_type": "markdown",
   "id": "5f8969bc-ab5a-4ff8-b959-bd15fe355f91",
   "metadata": {},
   "source": [
    "# Get node data from NPM and add it to the database"
   ]
  },
  {
   "cell_type": "code",
   "execution_count": null,
   "id": "fb0e1be7-bf71-4572-a460-83d9240845c9",
   "metadata": {
    "tags": []
   },
   "outputs": [],
   "source": [
    "importlib.reload(swc)\n",
    "\n",
    "node_ids = swc.get_npm_node_ids(npm_server, npm_username, npm_password)\n",
    "node_ips = swc.get_npm_node_ips(npm_server, npm_username, npm_password)\n",
    "node_machine_types = swc.get_npm_node_machine_types(npm_server, npm_username, npm_password)\n",
    "node_os_versions = swc.get_npm_node_os_versions(npm_server, npm_username, npm_password)\n",
    "node_vendors = swc.get_npm_node_vendors(npm_server, npm_username, npm_password)\n",
    "node_os_versions"
   ]
  },
  {
   "cell_type": "code",
   "execution_count": null,
   "id": "8dfb9ab6-9c9a-4ff8-91c2-e8ab3b3b1090",
   "metadata": {},
   "outputs": [],
   "source": []
  }
 ],
 "metadata": {
  "kernelspec": {
   "display_name": "Python 3 (ipykernel)",
   "language": "python",
   "name": "python3"
  },
  "language_info": {
   "codemirror_mode": {
    "name": "ipython",
    "version": 3
   },
   "file_extension": ".py",
   "mimetype": "text/x-python",
   "name": "python",
   "nbconvert_exporter": "python",
   "pygments_lexer": "ipython3",
   "version": "3.10.9"
  }
 },
 "nbformat": 4,
 "nbformat_minor": 5
}
